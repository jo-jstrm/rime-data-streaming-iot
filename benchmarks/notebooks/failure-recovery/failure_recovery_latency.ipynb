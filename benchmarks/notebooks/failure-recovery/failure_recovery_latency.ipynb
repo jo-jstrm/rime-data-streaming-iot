{
 "metadata": {
  "language_info": {
   "codemirror_mode": {
    "name": "ipython",
    "version": 3
   },
   "file_extension": ".py",
   "mimetype": "text/x-python",
   "name": "python",
   "nbconvert_exporter": "python",
   "pygments_lexer": "ipython3",
   "version": "3.6.9"
  },
  "orig_nbformat": 2,
  "kernelspec": {
   "name": "python3",
   "display_name": "Python 3.6.9 64-bit",
   "metadata": {
    "interpreter": {
     "hash": "767d51c1340bd893661ea55ea3124f6de3c7a262a8b4abca0554b478b1e2ff90"
    }
   }
  }
 },
 "nbformat": 4,
 "nbformat_minor": 2,
 "cells": [
  {
   "source": [
    "# Compute the recovery latency of the system after node failures"
   ],
   "cell_type": "markdown",
   "metadata": {}
  },
  {
   "cell_type": "code",
   "execution_count": 55,
   "metadata": {},
   "outputs": [],
   "source": [
    "import pandas as pd\n",
    "import numpy as np\n",
    "\n",
    "pd.set_option(\"display.precision\", 10)\n",
    "pd.set_option('max_colwidth', 120)"
   ]
  },
  {
   "cell_type": "code",
   "execution_count": 56,
   "metadata": {},
   "outputs": [],
   "source": [
    "paths =\t{\n",
    "    #\"111\": \"../../logs/failure-recovery/25-03-2021\",\n",
    "    \"73\": \"../../logs/failure-recovery/29-03-2021\"\n",
    "}\n",
    "\n",
    "exclude_paths = [\"broken\"]\n",
    "\n",
    "timeframe_upper_limit = 60 # sec\n",
    "failure_time = 30"
   ]
  },
  {
   "cell_type": "code",
   "execution_count": 57,
   "metadata": {},
   "outputs": [],
   "source": [
    "m_stamps = []\n",
    "m_topologies = []\n",
    "m_runs = []\n",
    "m_node_ids = []\n",
    "m_messages = []\n",
    "m_unix_stamps = []\n",
    "m_down_parents = []\n",
    "m_backups = []\n",
    "m_startup_times = {}\n",
    "\n",
    "d_stamps = []\n",
    "d_topologies = []\n",
    "d_runs = []\n",
    "d_node_ids = []\n",
    "d_sources = []\n",
    "\n",
    "for path in paths :     \n",
    "    for root, dirs, files in os.walk(paths[path]) :      \n",
    "        dirs[:] = [directory for directory in dirs if directory not in exclude_paths]  \n",
    "        run = root.split('_')[-1]\n",
    "\n",
    "        for file in files :\n",
    "            with open( os.path.join(root, file) ) as log :   \n",
    "                node_id = file.split('_')[0][4:]              \n",
    "                for line in log :            \n",
    "                    if \"PARENT DOWN\" in line: \n",
    "                        elem = line.split( )  \n",
    "\n",
    "                        m_topologies.append(int(path))\n",
    "                        m_runs.append(int(run))\n",
    "                        m_node_ids.append(int(node_id))\n",
    "                        m_stamps.append(int(elem[0]))\n",
    "                        m_unix_stamps.append(-1)\n",
    "                        m_down_parents.append(int(elem[13].split(',')[0]))\n",
    "                        m_backups.append(int(elem[16]))\n",
    "                    elif \"DATA RECEIVED\" in line:\n",
    "                        # data messages\n",
    "                        elem = line.split( )                \n",
    "\n",
    "                        d_topologies.append( int(path) )\n",
    "                        d_runs.append(int(run))\n",
    "                        d_node_ids.append(int(node_id))                        \n",
    "                        d_sources.append(int(elem[12]))\n",
    "                        d_stamps.append(int(elem[8])) # unix timestamp\n",
    "                    # elif \"RECEIVED MESSAGE\" in line:\n",
    "                        # data messages\n",
    "                    #     elem = line.split( )\n",
    " \n",
    "                    #     topologies.append( int(path) )\n",
    "                    #     runs.append(int(run))                        \n",
    "                    #     node_ids.append(int(node_id))                        \n",
    "                    #     timestamps.append(-1)\n",
    "                    #     unix_timestamps.append(int(elem[8]) ) # unix timestamp\n",
    "                    #     messages.append(str(elem[9:]))\n",
    "                    elif \"STARTUP TIME\" in line:\n",
    "                        elem = line.split( )\n",
    "                        m_startup_times[(int(run), int(node_id))] = int(elem[-1])\n",
    "\n",
    "\n",
    "m_data = pd.DataFrame(np.column_stack([m_topologies, m_runs, m_node_ids, m_stamps, m_down_parents, m_backups]),\n",
    "                        columns=['topology', 'run', 'node_id', 'timestamp', 'down_parent', 'backup'])\n",
    "\n",
    "d_data = pd.DataFrame(np.column_stack([d_topologies, d_runs, d_node_ids, d_sources, d_stamps]), \n",
    "                        columns=['topology', 'run', 'node_id', 'message_source', 'timestamp'])"
   ]
  },
  {
   "cell_type": "code",
   "execution_count": 58,
   "metadata": {},
   "outputs": [
    {
     "output_type": "execute_result",
     "data": {
      "text/plain": [
       "    topology  run  node_id  timestamp  down_parent  backup\n",
       "0         73    1       30      30311           37      64\n",
       "1         73    1       38      30257           37      64\n",
       "2         73    1       26      69673            1      28\n",
       "3         73    1       68      30060           37      10\n",
       "4         73    1       60      30113           37      10\n",
       "5         73    1       71      96281           28      19\n",
       "6         73    1       42      30232           37      64\n",
       "7         73    1       70      30047           37      10\n",
       "8         73    1       51      30172           37      64\n",
       "9         73    1       33      30292           37      64\n",
       "10        73    1        5      30471           37      10\n",
       "11        73    1       65      30080           37      10\n",
       "12        73    1       61      30106           37      10\n",
       "13        73    1        2      30487           37      10\n",
       "14        73    0       70     110194           46      37\n",
       "15        73    0       57      30143            1      64\n",
       "16        73    0       66     110223           46      37\n",
       "17        73    0       32      30309            1      64\n",
       "18        73    0       59      30130            1      64\n",
       "19        73    0       21      30378            1      64\n",
       "20        73    0       68     110209           46      37\n",
       "21        73    0       15      30419            1      46\n",
       "22        73    2       17      30380           10      10\n",
       "23        73    2       15      30391           10      10\n",
       "24        73    2       11      30417           10      10\n",
       "25        73    2       66     104086           37      28\n",
       "26        73    2       51      71429            1      46\n",
       "27        73    2       16      30387           10      10\n",
       "28        73    2       13      30404           10      10\n",
       "29        73    2       18      30372           10      10\n",
       "30        73    2       12      30409           10      10\n",
       "31        73    2       68     104072           37      28\n",
       "32        73    2       14      30398           10      10\n",
       "33        73    2       65     104092           37      55"
      ],
      "text/html": "<div>\n<style scoped>\n    .dataframe tbody tr th:only-of-type {\n        vertical-align: middle;\n    }\n\n    .dataframe tbody tr th {\n        vertical-align: top;\n    }\n\n    .dataframe thead th {\n        text-align: right;\n    }\n</style>\n<table border=\"1\" class=\"dataframe\">\n  <thead>\n    <tr style=\"text-align: right;\">\n      <th></th>\n      <th>topology</th>\n      <th>run</th>\n      <th>node_id</th>\n      <th>timestamp</th>\n      <th>down_parent</th>\n      <th>backup</th>\n    </tr>\n  </thead>\n  <tbody>\n    <tr>\n      <th>0</th>\n      <td>73</td>\n      <td>1</td>\n      <td>30</td>\n      <td>30311</td>\n      <td>37</td>\n      <td>64</td>\n    </tr>\n    <tr>\n      <th>1</th>\n      <td>73</td>\n      <td>1</td>\n      <td>38</td>\n      <td>30257</td>\n      <td>37</td>\n      <td>64</td>\n    </tr>\n    <tr>\n      <th>2</th>\n      <td>73</td>\n      <td>1</td>\n      <td>26</td>\n      <td>69673</td>\n      <td>1</td>\n      <td>28</td>\n    </tr>\n    <tr>\n      <th>3</th>\n      <td>73</td>\n      <td>1</td>\n      <td>68</td>\n      <td>30060</td>\n      <td>37</td>\n      <td>10</td>\n    </tr>\n    <tr>\n      <th>4</th>\n      <td>73</td>\n      <td>1</td>\n      <td>60</td>\n      <td>30113</td>\n      <td>37</td>\n      <td>10</td>\n    </tr>\n    <tr>\n      <th>5</th>\n      <td>73</td>\n      <td>1</td>\n      <td>71</td>\n      <td>96281</td>\n      <td>28</td>\n      <td>19</td>\n    </tr>\n    <tr>\n      <th>6</th>\n      <td>73</td>\n      <td>1</td>\n      <td>42</td>\n      <td>30232</td>\n      <td>37</td>\n      <td>64</td>\n    </tr>\n    <tr>\n      <th>7</th>\n      <td>73</td>\n      <td>1</td>\n      <td>70</td>\n      <td>30047</td>\n      <td>37</td>\n      <td>10</td>\n    </tr>\n    <tr>\n      <th>8</th>\n      <td>73</td>\n      <td>1</td>\n      <td>51</td>\n      <td>30172</td>\n      <td>37</td>\n      <td>64</td>\n    </tr>\n    <tr>\n      <th>9</th>\n      <td>73</td>\n      <td>1</td>\n      <td>33</td>\n      <td>30292</td>\n      <td>37</td>\n      <td>64</td>\n    </tr>\n    <tr>\n      <th>10</th>\n      <td>73</td>\n      <td>1</td>\n      <td>5</td>\n      <td>30471</td>\n      <td>37</td>\n      <td>10</td>\n    </tr>\n    <tr>\n      <th>11</th>\n      <td>73</td>\n      <td>1</td>\n      <td>65</td>\n      <td>30080</td>\n      <td>37</td>\n      <td>10</td>\n    </tr>\n    <tr>\n      <th>12</th>\n      <td>73</td>\n      <td>1</td>\n      <td>61</td>\n      <td>30106</td>\n      <td>37</td>\n      <td>10</td>\n    </tr>\n    <tr>\n      <th>13</th>\n      <td>73</td>\n      <td>1</td>\n      <td>2</td>\n      <td>30487</td>\n      <td>37</td>\n      <td>10</td>\n    </tr>\n    <tr>\n      <th>14</th>\n      <td>73</td>\n      <td>0</td>\n      <td>70</td>\n      <td>110194</td>\n      <td>46</td>\n      <td>37</td>\n    </tr>\n    <tr>\n      <th>15</th>\n      <td>73</td>\n      <td>0</td>\n      <td>57</td>\n      <td>30143</td>\n      <td>1</td>\n      <td>64</td>\n    </tr>\n    <tr>\n      <th>16</th>\n      <td>73</td>\n      <td>0</td>\n      <td>66</td>\n      <td>110223</td>\n      <td>46</td>\n      <td>37</td>\n    </tr>\n    <tr>\n      <th>17</th>\n      <td>73</td>\n      <td>0</td>\n      <td>32</td>\n      <td>30309</td>\n      <td>1</td>\n      <td>64</td>\n    </tr>\n    <tr>\n      <th>18</th>\n      <td>73</td>\n      <td>0</td>\n      <td>59</td>\n      <td>30130</td>\n      <td>1</td>\n      <td>64</td>\n    </tr>\n    <tr>\n      <th>19</th>\n      <td>73</td>\n      <td>0</td>\n      <td>21</td>\n      <td>30378</td>\n      <td>1</td>\n      <td>64</td>\n    </tr>\n    <tr>\n      <th>20</th>\n      <td>73</td>\n      <td>0</td>\n      <td>68</td>\n      <td>110209</td>\n      <td>46</td>\n      <td>37</td>\n    </tr>\n    <tr>\n      <th>21</th>\n      <td>73</td>\n      <td>0</td>\n      <td>15</td>\n      <td>30419</td>\n      <td>1</td>\n      <td>46</td>\n    </tr>\n    <tr>\n      <th>22</th>\n      <td>73</td>\n      <td>2</td>\n      <td>17</td>\n      <td>30380</td>\n      <td>10</td>\n      <td>10</td>\n    </tr>\n    <tr>\n      <th>23</th>\n      <td>73</td>\n      <td>2</td>\n      <td>15</td>\n      <td>30391</td>\n      <td>10</td>\n      <td>10</td>\n    </tr>\n    <tr>\n      <th>24</th>\n      <td>73</td>\n      <td>2</td>\n      <td>11</td>\n      <td>30417</td>\n      <td>10</td>\n      <td>10</td>\n    </tr>\n    <tr>\n      <th>25</th>\n      <td>73</td>\n      <td>2</td>\n      <td>66</td>\n      <td>104086</td>\n      <td>37</td>\n      <td>28</td>\n    </tr>\n    <tr>\n      <th>26</th>\n      <td>73</td>\n      <td>2</td>\n      <td>51</td>\n      <td>71429</td>\n      <td>1</td>\n      <td>46</td>\n    </tr>\n    <tr>\n      <th>27</th>\n      <td>73</td>\n      <td>2</td>\n      <td>16</td>\n      <td>30387</td>\n      <td>10</td>\n      <td>10</td>\n    </tr>\n    <tr>\n      <th>28</th>\n      <td>73</td>\n      <td>2</td>\n      <td>13</td>\n      <td>30404</td>\n      <td>10</td>\n      <td>10</td>\n    </tr>\n    <tr>\n      <th>29</th>\n      <td>73</td>\n      <td>2</td>\n      <td>18</td>\n      <td>30372</td>\n      <td>10</td>\n      <td>10</td>\n    </tr>\n    <tr>\n      <th>30</th>\n      <td>73</td>\n      <td>2</td>\n      <td>12</td>\n      <td>30409</td>\n      <td>10</td>\n      <td>10</td>\n    </tr>\n    <tr>\n      <th>31</th>\n      <td>73</td>\n      <td>2</td>\n      <td>68</td>\n      <td>104072</td>\n      <td>37</td>\n      <td>28</td>\n    </tr>\n    <tr>\n      <th>32</th>\n      <td>73</td>\n      <td>2</td>\n      <td>14</td>\n      <td>30398</td>\n      <td>10</td>\n      <td>10</td>\n    </tr>\n    <tr>\n      <th>33</th>\n      <td>73</td>\n      <td>2</td>\n      <td>65</td>\n      <td>104092</td>\n      <td>37</td>\n      <td>55</td>\n    </tr>\n  </tbody>\n</table>\n</div>"
     },
     "metadata": {},
     "execution_count": 58
    }
   ],
   "source": [
    "m_data"
   ]
  },
  {
   "cell_type": "code",
   "execution_count": 59,
   "metadata": {},
   "outputs": [
    {
     "output_type": "execute_result",
     "data": {
      "text/plain": [
       "   index  topology  run  node_id  timestamp  down_parent  backup\n",
       "0      0        73    1       30     30.311           37      64\n",
       "1      1        73    1       38     30.257           37      64\n",
       "2      3        73    1       68     30.060           37      10\n",
       "3      4        73    1       60     30.113           37      10\n",
       "4      6        73    1       42     30.232           37      64"
      ],
      "text/html": "<div>\n<style scoped>\n    .dataframe tbody tr th:only-of-type {\n        vertical-align: middle;\n    }\n\n    .dataframe tbody tr th {\n        vertical-align: top;\n    }\n\n    .dataframe thead th {\n        text-align: right;\n    }\n</style>\n<table border=\"1\" class=\"dataframe\">\n  <thead>\n    <tr style=\"text-align: right;\">\n      <th></th>\n      <th>index</th>\n      <th>topology</th>\n      <th>run</th>\n      <th>node_id</th>\n      <th>timestamp</th>\n      <th>down_parent</th>\n      <th>backup</th>\n    </tr>\n  </thead>\n  <tbody>\n    <tr>\n      <th>0</th>\n      <td>0</td>\n      <td>73</td>\n      <td>1</td>\n      <td>30</td>\n      <td>30.311</td>\n      <td>37</td>\n      <td>64</td>\n    </tr>\n    <tr>\n      <th>1</th>\n      <td>1</td>\n      <td>73</td>\n      <td>1</td>\n      <td>38</td>\n      <td>30.257</td>\n      <td>37</td>\n      <td>64</td>\n    </tr>\n    <tr>\n      <th>2</th>\n      <td>3</td>\n      <td>73</td>\n      <td>1</td>\n      <td>68</td>\n      <td>30.060</td>\n      <td>37</td>\n      <td>10</td>\n    </tr>\n    <tr>\n      <th>3</th>\n      <td>4</td>\n      <td>73</td>\n      <td>1</td>\n      <td>60</td>\n      <td>30.113</td>\n      <td>37</td>\n      <td>10</td>\n    </tr>\n    <tr>\n      <th>4</th>\n      <td>6</td>\n      <td>73</td>\n      <td>1</td>\n      <td>42</td>\n      <td>30.232</td>\n      <td>37</td>\n      <td>64</td>\n    </tr>\n  </tbody>\n</table>\n</div>"
     },
     "metadata": {},
     "execution_count": 59
    }
   ],
   "source": [
    "m_data['timestamp'] = m_data['timestamp'] / 1000\n",
    "m_data = m_data[(m_data['timestamp'] < timeframe_upper_limit) & (m_data['timestamp'] > failure_time - 5)].reset_index()\n",
    "m_data.head()"
   ]
  },
  {
   "cell_type": "code",
   "execution_count": 60,
   "metadata": {},
   "outputs": [
    {
     "output_type": "execute_result",
     "data": {
      "text/plain": [
       "     topology  run  node_id  message_source     timestamp\n",
       "150        73    1       55              48  25.160564649\n",
       "151        73    1       55              52  25.160937155\n",
       "152        73    1       55              49  25.161413106\n",
       "153        73    1       55              52  25.661018967\n",
       "154        73    1       55              48  25.661294896"
      ],
      "text/html": "<div>\n<style scoped>\n    .dataframe tbody tr th:only-of-type {\n        vertical-align: middle;\n    }\n\n    .dataframe tbody tr th {\n        vertical-align: top;\n    }\n\n    .dataframe thead th {\n        text-align: right;\n    }\n</style>\n<table border=\"1\" class=\"dataframe\">\n  <thead>\n    <tr style=\"text-align: right;\">\n      <th></th>\n      <th>topology</th>\n      <th>run</th>\n      <th>node_id</th>\n      <th>message_source</th>\n      <th>timestamp</th>\n    </tr>\n  </thead>\n  <tbody>\n    <tr>\n      <th>150</th>\n      <td>73</td>\n      <td>1</td>\n      <td>55</td>\n      <td>48</td>\n      <td>25.160564649</td>\n    </tr>\n    <tr>\n      <th>151</th>\n      <td>73</td>\n      <td>1</td>\n      <td>55</td>\n      <td>52</td>\n      <td>25.160937155</td>\n    </tr>\n    <tr>\n      <th>152</th>\n      <td>73</td>\n      <td>1</td>\n      <td>55</td>\n      <td>49</td>\n      <td>25.161413106</td>\n    </tr>\n    <tr>\n      <th>153</th>\n      <td>73</td>\n      <td>1</td>\n      <td>55</td>\n      <td>52</td>\n      <td>25.661018967</td>\n    </tr>\n    <tr>\n      <th>154</th>\n      <td>73</td>\n      <td>1</td>\n      <td>55</td>\n      <td>48</td>\n      <td>25.661294896</td>\n    </tr>\n  </tbody>\n</table>\n</div>"
     },
     "metadata": {},
     "execution_count": 60
    }
   ],
   "source": [
    "d_data['timestamp'] = d_data.apply(lambda row: (row.timestamp - m_startup_times[(row.run, row.node_id)]) / 1000000000, axis=1)\n",
    "d_data = d_data[(d_data['timestamp'] > failure_time - 5)]\n",
    "d_data.head()"
   ]
  },
  {
   "cell_type": "code",
   "execution_count": 61,
   "metadata": {},
   "outputs": [
    {
     "output_type": "execute_result",
     "data": {
      "text/plain": [
       "59.977677925"
      ]
     },
     "metadata": {},
     "execution_count": 61
    }
   ],
   "source": [
    "d_data['timestamp'].max()"
   ]
  },
  {
   "source": [
    "# Find the reconnection timestamp for each node that lost its parent"
   ],
   "cell_type": "markdown",
   "metadata": {}
  },
  {
   "cell_type": "code",
   "execution_count": 62,
   "metadata": {},
   "outputs": [
    {
     "output_type": "execute_result",
     "data": {
      "text/plain": [
       "     index  topology  run  node_id_x  down_time  down_parent  backup  \\\n",
       "0        0        73    1         30     30.311           37      64   \n",
       "1        0        73    1         30     30.311           37      64   \n",
       "2        0        73    1         30     30.311           37      64   \n",
       "3        0        73    1         30     30.311           37      64   \n",
       "4        0        73    1         30     30.311           37      64   \n",
       "..     ...       ...  ...        ...        ...          ...     ...   \n",
       "381     27        73    2         16     30.387           10      10   \n",
       "382     28        73    2         13     30.404           10      10   \n",
       "383     29        73    2         18     30.372           10      10   \n",
       "384     30        73    2         12     30.409           10      10   \n",
       "385     32        73    2         14     30.398           10      10   \n",
       "\n",
       "     first_tuple_time  \n",
       "0        30.098732010  \n",
       "1        30.598640470  \n",
       "2        31.098815182  \n",
       "3        31.598898414  \n",
       "4        32.099357267  \n",
       "..                ...  \n",
       "381               NaN  \n",
       "382               NaN  \n",
       "383               NaN  \n",
       "384               NaN  \n",
       "385               NaN  \n",
       "\n",
       "[386 rows x 8 columns]"
      ],
      "text/html": "<div>\n<style scoped>\n    .dataframe tbody tr th:only-of-type {\n        vertical-align: middle;\n    }\n\n    .dataframe tbody tr th {\n        vertical-align: top;\n    }\n\n    .dataframe thead th {\n        text-align: right;\n    }\n</style>\n<table border=\"1\" class=\"dataframe\">\n  <thead>\n    <tr style=\"text-align: right;\">\n      <th></th>\n      <th>index</th>\n      <th>topology</th>\n      <th>run</th>\n      <th>node_id_x</th>\n      <th>down_time</th>\n      <th>down_parent</th>\n      <th>backup</th>\n      <th>first_tuple_time</th>\n    </tr>\n  </thead>\n  <tbody>\n    <tr>\n      <th>0</th>\n      <td>0</td>\n      <td>73</td>\n      <td>1</td>\n      <td>30</td>\n      <td>30.311</td>\n      <td>37</td>\n      <td>64</td>\n      <td>30.098732010</td>\n    </tr>\n    <tr>\n      <th>1</th>\n      <td>0</td>\n      <td>73</td>\n      <td>1</td>\n      <td>30</td>\n      <td>30.311</td>\n      <td>37</td>\n      <td>64</td>\n      <td>30.598640470</td>\n    </tr>\n    <tr>\n      <th>2</th>\n      <td>0</td>\n      <td>73</td>\n      <td>1</td>\n      <td>30</td>\n      <td>30.311</td>\n      <td>37</td>\n      <td>64</td>\n      <td>31.098815182</td>\n    </tr>\n    <tr>\n      <th>3</th>\n      <td>0</td>\n      <td>73</td>\n      <td>1</td>\n      <td>30</td>\n      <td>30.311</td>\n      <td>37</td>\n      <td>64</td>\n      <td>31.598898414</td>\n    </tr>\n    <tr>\n      <th>4</th>\n      <td>0</td>\n      <td>73</td>\n      <td>1</td>\n      <td>30</td>\n      <td>30.311</td>\n      <td>37</td>\n      <td>64</td>\n      <td>32.099357267</td>\n    </tr>\n    <tr>\n      <th>...</th>\n      <td>...</td>\n      <td>...</td>\n      <td>...</td>\n      <td>...</td>\n      <td>...</td>\n      <td>...</td>\n      <td>...</td>\n      <td>...</td>\n    </tr>\n    <tr>\n      <th>381</th>\n      <td>27</td>\n      <td>73</td>\n      <td>2</td>\n      <td>16</td>\n      <td>30.387</td>\n      <td>10</td>\n      <td>10</td>\n      <td>NaN</td>\n    </tr>\n    <tr>\n      <th>382</th>\n      <td>28</td>\n      <td>73</td>\n      <td>2</td>\n      <td>13</td>\n      <td>30.404</td>\n      <td>10</td>\n      <td>10</td>\n      <td>NaN</td>\n    </tr>\n    <tr>\n      <th>383</th>\n      <td>29</td>\n      <td>73</td>\n      <td>2</td>\n      <td>18</td>\n      <td>30.372</td>\n      <td>10</td>\n      <td>10</td>\n      <td>NaN</td>\n    </tr>\n    <tr>\n      <th>384</th>\n      <td>30</td>\n      <td>73</td>\n      <td>2</td>\n      <td>12</td>\n      <td>30.409</td>\n      <td>10</td>\n      <td>10</td>\n      <td>NaN</td>\n    </tr>\n    <tr>\n      <th>385</th>\n      <td>32</td>\n      <td>73</td>\n      <td>2</td>\n      <td>14</td>\n      <td>30.398</td>\n      <td>10</td>\n      <td>10</td>\n      <td>NaN</td>\n    </tr>\n  </tbody>\n</table>\n<p>386 rows × 8 columns</p>\n</div>"
     },
     "metadata": {},
     "execution_count": 62
    }
   ],
   "source": [
    "\n",
    "tmp = m_data.merge(d_data, how='left',\n",
    "                    left_on=['topology', 'run', 'backup', 'node_id'],\n",
    "                    right_on=['topology', 'run', 'node_id', 'message_source'])\n",
    "tmp.rename(columns={'timestamp_x': 'down_time', 'timestamp_y': 'first_tuple_time'}, inplace=True)\n",
    "tmp.drop(columns=['node_id_y', 'message_source'], inplace=True)\n",
    "tmp\n"
   ]
  },
  {
   "cell_type": "code",
   "execution_count": 65,
   "metadata": {},
   "outputs": [
    {
     "output_type": "execute_result",
     "data": {
      "text/plain": [
       "    topology  run  node_id_x  down_time  first_tuple_time  down_parent  \\\n",
       "0         73    0         15     30.419      46.225689945            1   \n",
       "1         73    0         21     30.378      30.102283405            1   \n",
       "2         73    0         32     30.309      48.112518384            1   \n",
       "3         73    0         57     30.143               NaN            1   \n",
       "4         73    0         59     30.130               NaN            1   \n",
       "5         73    1          2     30.487               NaN           37   \n",
       "6         73    1          5     30.471               NaN           37   \n",
       "7         73    1         30     30.311      30.098732010           37   \n",
       "8         73    1         33     30.292      30.098534622           37   \n",
       "9         73    1         38     30.257               NaN           37   \n",
       "10        73    1         42     30.232               NaN           37   \n",
       "11        73    1         51     30.172      30.100491808           37   \n",
       "12        73    1         60     30.113               NaN           37   \n",
       "13        73    1         61     30.106               NaN           37   \n",
       "14        73    1         65     30.080      47.456760275           37   \n",
       "15        73    1         68     30.060      47.466510174           37   \n",
       "16        73    1         70     30.047      47.463792783           37   \n",
       "17        73    2         11     30.417               NaN           10   \n",
       "18        73    2         12     30.409               NaN           10   \n",
       "19        73    2         13     30.404               NaN           10   \n",
       "20        73    2         14     30.398               NaN           10   \n",
       "21        73    2         15     30.391               NaN           10   \n",
       "22        73    2         16     30.387               NaN           10   \n",
       "23        73    2         17     30.380               NaN           10   \n",
       "24        73    2         18     30.372               NaN           10   \n",
       "\n",
       "    backup  Recovery latencies in [s], n=3  \n",
       "0       46                    15.806689945  \n",
       "1       64                    -0.275716595  \n",
       "2       64                    17.803518384  \n",
       "3       64                             NaN  \n",
       "4       64                             NaN  \n",
       "5       10                             NaN  \n",
       "6       10                             NaN  \n",
       "7       64                    -0.212267990  \n",
       "8       64                    -0.193465378  \n",
       "9       64                             NaN  \n",
       "10      64                             NaN  \n",
       "11      64                    -0.071508192  \n",
       "12      10                             NaN  \n",
       "13      10                             NaN  \n",
       "14      10                    17.376760275  \n",
       "15      10                    17.406510174  \n",
       "16      10                    17.416792783  \n",
       "17      10                             NaN  \n",
       "18      10                             NaN  \n",
       "19      10                             NaN  \n",
       "20      10                             NaN  \n",
       "21      10                             NaN  \n",
       "22      10                             NaN  \n",
       "23      10                             NaN  \n",
       "24      10                             NaN  "
      ],
      "text/html": "<div>\n<style scoped>\n    .dataframe tbody tr th:only-of-type {\n        vertical-align: middle;\n    }\n\n    .dataframe tbody tr th {\n        vertical-align: top;\n    }\n\n    .dataframe thead th {\n        text-align: right;\n    }\n</style>\n<table border=\"1\" class=\"dataframe\">\n  <thead>\n    <tr style=\"text-align: right;\">\n      <th></th>\n      <th>topology</th>\n      <th>run</th>\n      <th>node_id_x</th>\n      <th>down_time</th>\n      <th>first_tuple_time</th>\n      <th>down_parent</th>\n      <th>backup</th>\n      <th>Recovery latencies in [s], n=3</th>\n    </tr>\n  </thead>\n  <tbody>\n    <tr>\n      <th>0</th>\n      <td>73</td>\n      <td>0</td>\n      <td>15</td>\n      <td>30.419</td>\n      <td>46.225689945</td>\n      <td>1</td>\n      <td>46</td>\n      <td>15.806689945</td>\n    </tr>\n    <tr>\n      <th>1</th>\n      <td>73</td>\n      <td>0</td>\n      <td>21</td>\n      <td>30.378</td>\n      <td>30.102283405</td>\n      <td>1</td>\n      <td>64</td>\n      <td>-0.275716595</td>\n    </tr>\n    <tr>\n      <th>2</th>\n      <td>73</td>\n      <td>0</td>\n      <td>32</td>\n      <td>30.309</td>\n      <td>48.112518384</td>\n      <td>1</td>\n      <td>64</td>\n      <td>17.803518384</td>\n    </tr>\n    <tr>\n      <th>3</th>\n      <td>73</td>\n      <td>0</td>\n      <td>57</td>\n      <td>30.143</td>\n      <td>NaN</td>\n      <td>1</td>\n      <td>64</td>\n      <td>NaN</td>\n    </tr>\n    <tr>\n      <th>4</th>\n      <td>73</td>\n      <td>0</td>\n      <td>59</td>\n      <td>30.130</td>\n      <td>NaN</td>\n      <td>1</td>\n      <td>64</td>\n      <td>NaN</td>\n    </tr>\n    <tr>\n      <th>5</th>\n      <td>73</td>\n      <td>1</td>\n      <td>2</td>\n      <td>30.487</td>\n      <td>NaN</td>\n      <td>37</td>\n      <td>10</td>\n      <td>NaN</td>\n    </tr>\n    <tr>\n      <th>6</th>\n      <td>73</td>\n      <td>1</td>\n      <td>5</td>\n      <td>30.471</td>\n      <td>NaN</td>\n      <td>37</td>\n      <td>10</td>\n      <td>NaN</td>\n    </tr>\n    <tr>\n      <th>7</th>\n      <td>73</td>\n      <td>1</td>\n      <td>30</td>\n      <td>30.311</td>\n      <td>30.098732010</td>\n      <td>37</td>\n      <td>64</td>\n      <td>-0.212267990</td>\n    </tr>\n    <tr>\n      <th>8</th>\n      <td>73</td>\n      <td>1</td>\n      <td>33</td>\n      <td>30.292</td>\n      <td>30.098534622</td>\n      <td>37</td>\n      <td>64</td>\n      <td>-0.193465378</td>\n    </tr>\n    <tr>\n      <th>9</th>\n      <td>73</td>\n      <td>1</td>\n      <td>38</td>\n      <td>30.257</td>\n      <td>NaN</td>\n      <td>37</td>\n      <td>64</td>\n      <td>NaN</td>\n    </tr>\n    <tr>\n      <th>10</th>\n      <td>73</td>\n      <td>1</td>\n      <td>42</td>\n      <td>30.232</td>\n      <td>NaN</td>\n      <td>37</td>\n      <td>64</td>\n      <td>NaN</td>\n    </tr>\n    <tr>\n      <th>11</th>\n      <td>73</td>\n      <td>1</td>\n      <td>51</td>\n      <td>30.172</td>\n      <td>30.100491808</td>\n      <td>37</td>\n      <td>64</td>\n      <td>-0.071508192</td>\n    </tr>\n    <tr>\n      <th>12</th>\n      <td>73</td>\n      <td>1</td>\n      <td>60</td>\n      <td>30.113</td>\n      <td>NaN</td>\n      <td>37</td>\n      <td>10</td>\n      <td>NaN</td>\n    </tr>\n    <tr>\n      <th>13</th>\n      <td>73</td>\n      <td>1</td>\n      <td>61</td>\n      <td>30.106</td>\n      <td>NaN</td>\n      <td>37</td>\n      <td>10</td>\n      <td>NaN</td>\n    </tr>\n    <tr>\n      <th>14</th>\n      <td>73</td>\n      <td>1</td>\n      <td>65</td>\n      <td>30.080</td>\n      <td>47.456760275</td>\n      <td>37</td>\n      <td>10</td>\n      <td>17.376760275</td>\n    </tr>\n    <tr>\n      <th>15</th>\n      <td>73</td>\n      <td>1</td>\n      <td>68</td>\n      <td>30.060</td>\n      <td>47.466510174</td>\n      <td>37</td>\n      <td>10</td>\n      <td>17.406510174</td>\n    </tr>\n    <tr>\n      <th>16</th>\n      <td>73</td>\n      <td>1</td>\n      <td>70</td>\n      <td>30.047</td>\n      <td>47.463792783</td>\n      <td>37</td>\n      <td>10</td>\n      <td>17.416792783</td>\n    </tr>\n    <tr>\n      <th>17</th>\n      <td>73</td>\n      <td>2</td>\n      <td>11</td>\n      <td>30.417</td>\n      <td>NaN</td>\n      <td>10</td>\n      <td>10</td>\n      <td>NaN</td>\n    </tr>\n    <tr>\n      <th>18</th>\n      <td>73</td>\n      <td>2</td>\n      <td>12</td>\n      <td>30.409</td>\n      <td>NaN</td>\n      <td>10</td>\n      <td>10</td>\n      <td>NaN</td>\n    </tr>\n    <tr>\n      <th>19</th>\n      <td>73</td>\n      <td>2</td>\n      <td>13</td>\n      <td>30.404</td>\n      <td>NaN</td>\n      <td>10</td>\n      <td>10</td>\n      <td>NaN</td>\n    </tr>\n    <tr>\n      <th>20</th>\n      <td>73</td>\n      <td>2</td>\n      <td>14</td>\n      <td>30.398</td>\n      <td>NaN</td>\n      <td>10</td>\n      <td>10</td>\n      <td>NaN</td>\n    </tr>\n    <tr>\n      <th>21</th>\n      <td>73</td>\n      <td>2</td>\n      <td>15</td>\n      <td>30.391</td>\n      <td>NaN</td>\n      <td>10</td>\n      <td>10</td>\n      <td>NaN</td>\n    </tr>\n    <tr>\n      <th>22</th>\n      <td>73</td>\n      <td>2</td>\n      <td>16</td>\n      <td>30.387</td>\n      <td>NaN</td>\n      <td>10</td>\n      <td>10</td>\n      <td>NaN</td>\n    </tr>\n    <tr>\n      <th>23</th>\n      <td>73</td>\n      <td>2</td>\n      <td>17</td>\n      <td>30.380</td>\n      <td>NaN</td>\n      <td>10</td>\n      <td>10</td>\n      <td>NaN</td>\n    </tr>\n    <tr>\n      <th>24</th>\n      <td>73</td>\n      <td>2</td>\n      <td>18</td>\n      <td>30.372</td>\n      <td>NaN</td>\n      <td>10</td>\n      <td>10</td>\n      <td>NaN</td>\n    </tr>\n  </tbody>\n</table>\n</div>"
     },
     "metadata": {},
     "execution_count": 65
    }
   ],
   "source": [
    "aggs = {'down_time': 'first', 'first_tuple_time': 'min', 'down_parent': 'first', 'backup':'first'}\n",
    "\n",
    "res = tmp.groupby(['topology', 'run', 'node_id_x'], as_index=False).agg(aggs)\n",
    "res['Recovery latencies in [s], n=3'] = res.apply(lambda row: row['first_tuple_time'] - row['down_time'], axis=1)\n",
    "\n",
    "res"
   ]
  },
  {
   "cell_type": "code",
   "execution_count": 66,
   "metadata": {},
   "outputs": [
    {
     "output_type": "display_data",
     "data": {
      "text/plain": "<Figure size 432x288 with 1 Axes>",
      "image/svg+xml": "<?xml version=\"1.0\" encoding=\"utf-8\" standalone=\"no\"?>\n<!DOCTYPE svg PUBLIC \"-//W3C//DTD SVG 1.1//EN\"\n  \"http://www.w3.org/Graphics/SVG/1.1/DTD/svg11.dtd\">\n<!-- Created with matplotlib (https://matplotlib.org/) -->\n<svg height=\"253.357187pt\" version=\"1.1\" viewBox=\"0 0 375.2875 253.357187\" width=\"375.2875pt\" xmlns=\"http://www.w3.org/2000/svg\" xmlns:xlink=\"http://www.w3.org/1999/xlink\">\n <metadata>\n  <rdf:RDF xmlns:cc=\"http://creativecommons.org/ns#\" xmlns:dc=\"http://purl.org/dc/elements/1.1/\" xmlns:rdf=\"http://www.w3.org/1999/02/22-rdf-syntax-ns#\">\n   <cc:Work>\n    <dc:type rdf:resource=\"http://purl.org/dc/dcmitype/StillImage\"/>\n    <dc:date>2021-03-29T17:01:16.118234</dc:date>\n    <dc:format>image/svg+xml</dc:format>\n    <dc:creator>\n     <cc:Agent>\n      <dc:title>Matplotlib v3.3.2, https://matplotlib.org/</dc:title>\n     </cc:Agent>\n    </dc:creator>\n   </cc:Work>\n  </rdf:RDF>\n </metadata>\n <defs>\n  <style type=\"text/css\">*{stroke-linecap:butt;stroke-linejoin:round;}</style>\n </defs>\n <g id=\"figure_1\">\n  <g id=\"patch_1\">\n   <path d=\"M 0 253.357187 \nL 375.2875 253.357187 \nL 375.2875 0 \nL 0 0 \nz\n\" style=\"fill:none;\"/>\n  </g>\n  <g id=\"axes_1\">\n   <g id=\"patch_2\">\n    <path d=\"M 33.2875 224.64 \nL 368.0875 224.64 \nL 368.0875 7.2 \nL 33.2875 7.2 \nz\n\" style=\"fill:#ffffff;\"/>\n   </g>\n   <g id=\"matplotlib.axis_1\">\n    <g id=\"xtick_1\">\n     <g id=\"line2d_1\">\n      <path clip-path=\"url(#p34737eea5a)\" d=\"M 200.6875 224.64 \nL 200.6875 7.2 \n\" style=\"fill:none;stroke:#b0b0b0;stroke-linecap:square;stroke-width:0.8;\"/>\n     </g>\n     <g id=\"line2d_2\">\n      <defs>\n       <path d=\"M 0 0 \nL 0 3.5 \n\" id=\"m78ee5c2ec2\" style=\"stroke:#000000;stroke-width:0.8;\"/>\n      </defs>\n      <g>\n       <use style=\"stroke:#000000;stroke-width:0.8;\" x=\"200.6875\" xlink:href=\"#m78ee5c2ec2\" y=\"224.64\"/>\n      </g>\n     </g>\n     <g id=\"text_1\">\n      <!-- Recovery latencies in [s], n=3 -->\n      <g transform=\"translate(87.86875 243.037656)scale(0.15 -0.15)\">\n       <defs>\n        <path d=\"M 44.390625 34.1875 \nQ 47.5625 33.109375 50.5625 29.59375 \nQ 53.5625 26.078125 56.59375 19.921875 \nL 66.609375 0 \nL 56 0 \nL 46.6875 18.703125 \nQ 43.0625 26.03125 39.671875 28.421875 \nQ 36.28125 30.8125 30.421875 30.8125 \nL 19.671875 30.8125 \nL 19.671875 0 \nL 9.8125 0 \nL 9.8125 72.90625 \nL 32.078125 72.90625 \nQ 44.578125 72.90625 50.734375 67.671875 \nQ 56.890625 62.453125 56.890625 51.90625 \nQ 56.890625 45.015625 53.6875 40.46875 \nQ 50.484375 35.9375 44.390625 34.1875 \nz\nM 19.671875 64.796875 \nL 19.671875 38.921875 \nL 32.078125 38.921875 \nQ 39.203125 38.921875 42.84375 42.21875 \nQ 46.484375 45.515625 46.484375 51.90625 \nQ 46.484375 58.296875 42.84375 61.546875 \nQ 39.203125 64.796875 32.078125 64.796875 \nz\n\" id=\"DejaVuSans-82\"/>\n        <path d=\"M 56.203125 29.59375 \nL 56.203125 25.203125 \nL 14.890625 25.203125 \nQ 15.484375 15.921875 20.484375 11.0625 \nQ 25.484375 6.203125 34.421875 6.203125 \nQ 39.59375 6.203125 44.453125 7.46875 \nQ 49.3125 8.734375 54.109375 11.28125 \nL 54.109375 2.78125 \nQ 49.265625 0.734375 44.1875 -0.34375 \nQ 39.109375 -1.421875 33.890625 -1.421875 \nQ 20.796875 -1.421875 13.15625 6.1875 \nQ 5.515625 13.8125 5.515625 26.8125 \nQ 5.515625 40.234375 12.765625 48.109375 \nQ 20.015625 56 32.328125 56 \nQ 43.359375 56 49.78125 48.890625 \nQ 56.203125 41.796875 56.203125 29.59375 \nz\nM 47.21875 32.234375 \nQ 47.125 39.59375 43.09375 43.984375 \nQ 39.0625 48.390625 32.421875 48.390625 \nQ 24.90625 48.390625 20.390625 44.140625 \nQ 15.875 39.890625 15.1875 32.171875 \nz\n\" id=\"DejaVuSans-101\"/>\n        <path d=\"M 48.78125 52.59375 \nL 48.78125 44.1875 \nQ 44.96875 46.296875 41.140625 47.34375 \nQ 37.3125 48.390625 33.40625 48.390625 \nQ 24.65625 48.390625 19.8125 42.84375 \nQ 14.984375 37.3125 14.984375 27.296875 \nQ 14.984375 17.28125 19.8125 11.734375 \nQ 24.65625 6.203125 33.40625 6.203125 \nQ 37.3125 6.203125 41.140625 7.25 \nQ 44.96875 8.296875 48.78125 10.40625 \nL 48.78125 2.09375 \nQ 45.015625 0.34375 40.984375 -0.53125 \nQ 36.96875 -1.421875 32.421875 -1.421875 \nQ 20.0625 -1.421875 12.78125 6.34375 \nQ 5.515625 14.109375 5.515625 27.296875 \nQ 5.515625 40.671875 12.859375 48.328125 \nQ 20.21875 56 33.015625 56 \nQ 37.15625 56 41.109375 55.140625 \nQ 45.0625 54.296875 48.78125 52.59375 \nz\n\" id=\"DejaVuSans-99\"/>\n        <path d=\"M 30.609375 48.390625 \nQ 23.390625 48.390625 19.1875 42.75 \nQ 14.984375 37.109375 14.984375 27.296875 \nQ 14.984375 17.484375 19.15625 11.84375 \nQ 23.34375 6.203125 30.609375 6.203125 \nQ 37.796875 6.203125 41.984375 11.859375 \nQ 46.1875 17.53125 46.1875 27.296875 \nQ 46.1875 37.015625 41.984375 42.703125 \nQ 37.796875 48.390625 30.609375 48.390625 \nz\nM 30.609375 56 \nQ 42.328125 56 49.015625 48.375 \nQ 55.71875 40.765625 55.71875 27.296875 \nQ 55.71875 13.875 49.015625 6.21875 \nQ 42.328125 -1.421875 30.609375 -1.421875 \nQ 18.84375 -1.421875 12.171875 6.21875 \nQ 5.515625 13.875 5.515625 27.296875 \nQ 5.515625 40.765625 12.171875 48.375 \nQ 18.84375 56 30.609375 56 \nz\n\" id=\"DejaVuSans-111\"/>\n        <path d=\"M 2.984375 54.6875 \nL 12.5 54.6875 \nL 29.59375 8.796875 \nL 46.6875 54.6875 \nL 56.203125 54.6875 \nL 35.6875 0 \nL 23.484375 0 \nz\n\" id=\"DejaVuSans-118\"/>\n        <path d=\"M 41.109375 46.296875 \nQ 39.59375 47.171875 37.8125 47.578125 \nQ 36.03125 48 33.890625 48 \nQ 26.265625 48 22.1875 43.046875 \nQ 18.109375 38.09375 18.109375 28.8125 \nL 18.109375 0 \nL 9.078125 0 \nL 9.078125 54.6875 \nL 18.109375 54.6875 \nL 18.109375 46.1875 \nQ 20.953125 51.171875 25.484375 53.578125 \nQ 30.03125 56 36.53125 56 \nQ 37.453125 56 38.578125 55.875 \nQ 39.703125 55.765625 41.0625 55.515625 \nz\n\" id=\"DejaVuSans-114\"/>\n        <path d=\"M 32.171875 -5.078125 \nQ 28.375 -14.84375 24.75 -17.8125 \nQ 21.140625 -20.796875 15.09375 -20.796875 \nL 7.90625 -20.796875 \nL 7.90625 -13.28125 \nL 13.1875 -13.28125 \nQ 16.890625 -13.28125 18.9375 -11.515625 \nQ 21 -9.765625 23.484375 -3.21875 \nL 25.09375 0.875 \nL 2.984375 54.6875 \nL 12.5 54.6875 \nL 29.59375 11.921875 \nL 46.6875 54.6875 \nL 56.203125 54.6875 \nz\n\" id=\"DejaVuSans-121\"/>\n        <path id=\"DejaVuSans-32\"/>\n        <path d=\"M 9.421875 75.984375 \nL 18.40625 75.984375 \nL 18.40625 0 \nL 9.421875 0 \nz\n\" id=\"DejaVuSans-108\"/>\n        <path d=\"M 34.28125 27.484375 \nQ 23.390625 27.484375 19.1875 25 \nQ 14.984375 22.515625 14.984375 16.5 \nQ 14.984375 11.71875 18.140625 8.90625 \nQ 21.296875 6.109375 26.703125 6.109375 \nQ 34.1875 6.109375 38.703125 11.40625 \nQ 43.21875 16.703125 43.21875 25.484375 \nL 43.21875 27.484375 \nz\nM 52.203125 31.203125 \nL 52.203125 0 \nL 43.21875 0 \nL 43.21875 8.296875 \nQ 40.140625 3.328125 35.546875 0.953125 \nQ 30.953125 -1.421875 24.3125 -1.421875 \nQ 15.921875 -1.421875 10.953125 3.296875 \nQ 6 8.015625 6 15.921875 \nQ 6 25.140625 12.171875 29.828125 \nQ 18.359375 34.515625 30.609375 34.515625 \nL 43.21875 34.515625 \nL 43.21875 35.40625 \nQ 43.21875 41.609375 39.140625 45 \nQ 35.0625 48.390625 27.6875 48.390625 \nQ 23 48.390625 18.546875 47.265625 \nQ 14.109375 46.140625 10.015625 43.890625 \nL 10.015625 52.203125 \nQ 14.9375 54.109375 19.578125 55.046875 \nQ 24.21875 56 28.609375 56 \nQ 40.484375 56 46.34375 49.84375 \nQ 52.203125 43.703125 52.203125 31.203125 \nz\n\" id=\"DejaVuSans-97\"/>\n        <path d=\"M 18.3125 70.21875 \nL 18.3125 54.6875 \nL 36.8125 54.6875 \nL 36.8125 47.703125 \nL 18.3125 47.703125 \nL 18.3125 18.015625 \nQ 18.3125 11.328125 20.140625 9.421875 \nQ 21.96875 7.515625 27.59375 7.515625 \nL 36.8125 7.515625 \nL 36.8125 0 \nL 27.59375 0 \nQ 17.1875 0 13.234375 3.875 \nQ 9.28125 7.765625 9.28125 18.015625 \nL 9.28125 47.703125 \nL 2.6875 47.703125 \nL 2.6875 54.6875 \nL 9.28125 54.6875 \nL 9.28125 70.21875 \nz\n\" id=\"DejaVuSans-116\"/>\n        <path d=\"M 54.890625 33.015625 \nL 54.890625 0 \nL 45.90625 0 \nL 45.90625 32.71875 \nQ 45.90625 40.484375 42.875 44.328125 \nQ 39.84375 48.1875 33.796875 48.1875 \nQ 26.515625 48.1875 22.3125 43.546875 \nQ 18.109375 38.921875 18.109375 30.90625 \nL 18.109375 0 \nL 9.078125 0 \nL 9.078125 54.6875 \nL 18.109375 54.6875 \nL 18.109375 46.1875 \nQ 21.34375 51.125 25.703125 53.5625 \nQ 30.078125 56 35.796875 56 \nQ 45.21875 56 50.046875 50.171875 \nQ 54.890625 44.34375 54.890625 33.015625 \nz\n\" id=\"DejaVuSans-110\"/>\n        <path d=\"M 9.421875 54.6875 \nL 18.40625 54.6875 \nL 18.40625 0 \nL 9.421875 0 \nz\nM 9.421875 75.984375 \nL 18.40625 75.984375 \nL 18.40625 64.59375 \nL 9.421875 64.59375 \nz\n\" id=\"DejaVuSans-105\"/>\n        <path d=\"M 44.28125 53.078125 \nL 44.28125 44.578125 \nQ 40.484375 46.53125 36.375 47.5 \nQ 32.28125 48.484375 27.875 48.484375 \nQ 21.1875 48.484375 17.84375 46.4375 \nQ 14.5 44.390625 14.5 40.28125 \nQ 14.5 37.15625 16.890625 35.375 \nQ 19.28125 33.59375 26.515625 31.984375 \nL 29.59375 31.296875 \nQ 39.15625 29.25 43.1875 25.515625 \nQ 47.21875 21.78125 47.21875 15.09375 \nQ 47.21875 7.46875 41.1875 3.015625 \nQ 35.15625 -1.421875 24.609375 -1.421875 \nQ 20.21875 -1.421875 15.453125 -0.5625 \nQ 10.6875 0.296875 5.421875 2 \nL 5.421875 11.28125 \nQ 10.40625 8.6875 15.234375 7.390625 \nQ 20.0625 6.109375 24.8125 6.109375 \nQ 31.15625 6.109375 34.5625 8.28125 \nQ 37.984375 10.453125 37.984375 14.40625 \nQ 37.984375 18.0625 35.515625 20.015625 \nQ 33.0625 21.96875 24.703125 23.78125 \nL 21.578125 24.515625 \nQ 13.234375 26.265625 9.515625 29.90625 \nQ 5.8125 33.546875 5.8125 39.890625 \nQ 5.8125 47.609375 11.28125 51.796875 \nQ 16.75 56 26.8125 56 \nQ 31.78125 56 36.171875 55.265625 \nQ 40.578125 54.546875 44.28125 53.078125 \nz\n\" id=\"DejaVuSans-115\"/>\n        <path d=\"M 8.59375 75.984375 \nL 29.296875 75.984375 \nL 29.296875 69 \nL 17.578125 69 \nL 17.578125 -6.203125 \nL 29.296875 -6.203125 \nL 29.296875 -13.1875 \nL 8.59375 -13.1875 \nz\n\" id=\"DejaVuSans-91\"/>\n        <path d=\"M 30.421875 75.984375 \nL 30.421875 -13.1875 \nL 9.71875 -13.1875 \nL 9.71875 -6.203125 \nL 21.390625 -6.203125 \nL 21.390625 69 \nL 9.71875 69 \nL 9.71875 75.984375 \nz\n\" id=\"DejaVuSans-93\"/>\n        <path d=\"M 11.71875 12.40625 \nL 22.015625 12.40625 \nL 22.015625 4 \nL 14.015625 -11.625 \nL 7.71875 -11.625 \nL 11.71875 4 \nz\n\" id=\"DejaVuSans-44\"/>\n        <path d=\"M 10.59375 45.40625 \nL 73.1875 45.40625 \nL 73.1875 37.203125 \nL 10.59375 37.203125 \nz\nM 10.59375 25.484375 \nL 73.1875 25.484375 \nL 73.1875 17.1875 \nL 10.59375 17.1875 \nz\n\" id=\"DejaVuSans-61\"/>\n        <path d=\"M 40.578125 39.3125 \nQ 47.65625 37.796875 51.625 33 \nQ 55.609375 28.21875 55.609375 21.1875 \nQ 55.609375 10.40625 48.1875 4.484375 \nQ 40.765625 -1.421875 27.09375 -1.421875 \nQ 22.515625 -1.421875 17.65625 -0.515625 \nQ 12.796875 0.390625 7.625 2.203125 \nL 7.625 11.71875 \nQ 11.71875 9.328125 16.59375 8.109375 \nQ 21.484375 6.890625 26.8125 6.890625 \nQ 36.078125 6.890625 40.9375 10.546875 \nQ 45.796875 14.203125 45.796875 21.1875 \nQ 45.796875 27.640625 41.28125 31.265625 \nQ 36.765625 34.90625 28.71875 34.90625 \nL 20.21875 34.90625 \nL 20.21875 43.015625 \nL 29.109375 43.015625 \nQ 36.375 43.015625 40.234375 45.921875 \nQ 44.09375 48.828125 44.09375 54.296875 \nQ 44.09375 59.90625 40.109375 62.90625 \nQ 36.140625 65.921875 28.71875 65.921875 \nQ 24.65625 65.921875 20.015625 65.03125 \nQ 15.375 64.15625 9.8125 62.3125 \nL 9.8125 71.09375 \nQ 15.4375 72.65625 20.34375 73.4375 \nQ 25.25 74.21875 29.59375 74.21875 \nQ 40.828125 74.21875 47.359375 69.109375 \nQ 53.90625 64.015625 53.90625 55.328125 \nQ 53.90625 49.265625 50.4375 45.09375 \nQ 46.96875 40.921875 40.578125 39.3125 \nz\n\" id=\"DejaVuSans-51\"/>\n       </defs>\n       <use xlink:href=\"#DejaVuSans-82\"/>\n       <use x=\"64.982422\" xlink:href=\"#DejaVuSans-101\"/>\n       <use x=\"126.505859\" xlink:href=\"#DejaVuSans-99\"/>\n       <use x=\"181.486328\" xlink:href=\"#DejaVuSans-111\"/>\n       <use x=\"242.667969\" xlink:href=\"#DejaVuSans-118\"/>\n       <use x=\"301.847656\" xlink:href=\"#DejaVuSans-101\"/>\n       <use x=\"363.371094\" xlink:href=\"#DejaVuSans-114\"/>\n       <use x=\"404.484375\" xlink:href=\"#DejaVuSans-121\"/>\n       <use x=\"463.664062\" xlink:href=\"#DejaVuSans-32\"/>\n       <use x=\"495.451172\" xlink:href=\"#DejaVuSans-108\"/>\n       <use x=\"523.234375\" xlink:href=\"#DejaVuSans-97\"/>\n       <use x=\"584.513672\" xlink:href=\"#DejaVuSans-116\"/>\n       <use x=\"623.722656\" xlink:href=\"#DejaVuSans-101\"/>\n       <use x=\"685.246094\" xlink:href=\"#DejaVuSans-110\"/>\n       <use x=\"748.625\" xlink:href=\"#DejaVuSans-99\"/>\n       <use x=\"803.605469\" xlink:href=\"#DejaVuSans-105\"/>\n       <use x=\"831.388672\" xlink:href=\"#DejaVuSans-101\"/>\n       <use x=\"892.912109\" xlink:href=\"#DejaVuSans-115\"/>\n       <use x=\"945.011719\" xlink:href=\"#DejaVuSans-32\"/>\n       <use x=\"976.798828\" xlink:href=\"#DejaVuSans-105\"/>\n       <use x=\"1004.582031\" xlink:href=\"#DejaVuSans-110\"/>\n       <use x=\"1067.960938\" xlink:href=\"#DejaVuSans-32\"/>\n       <use x=\"1099.748047\" xlink:href=\"#DejaVuSans-91\"/>\n       <use x=\"1138.761719\" xlink:href=\"#DejaVuSans-115\"/>\n       <use x=\"1190.861328\" xlink:href=\"#DejaVuSans-93\"/>\n       <use x=\"1229.875\" xlink:href=\"#DejaVuSans-44\"/>\n       <use x=\"1261.662109\" xlink:href=\"#DejaVuSans-32\"/>\n       <use x=\"1293.449219\" xlink:href=\"#DejaVuSans-110\"/>\n       <use x=\"1356.828125\" xlink:href=\"#DejaVuSans-61\"/>\n       <use x=\"1440.617188\" xlink:href=\"#DejaVuSans-51\"/>\n      </g>\n     </g>\n    </g>\n   </g>\n   <g id=\"matplotlib.axis_2\">\n    <g id=\"ytick_1\">\n     <g id=\"line2d_3\">\n      <path clip-path=\"url(#p34737eea5a)\" d=\"M 33.2875 211.741764 \nL 368.0875 211.741764 \n\" style=\"fill:none;stroke:#b0b0b0;stroke-linecap:square;stroke-width:0.8;\"/>\n     </g>\n     <g id=\"line2d_4\">\n      <defs>\n       <path d=\"M 0 0 \nL -3.5 0 \n\" id=\"mdf56821227\" style=\"stroke:#000000;stroke-width:0.8;\"/>\n      </defs>\n      <g>\n       <use style=\"stroke:#000000;stroke-width:0.8;\" x=\"33.2875\" xlink:href=\"#mdf56821227\" y=\"211.741764\"/>\n      </g>\n     </g>\n     <g id=\"text_2\">\n      <!-- 0 -->\n      <g transform=\"translate(16.74375 217.440592)scale(0.15 -0.15)\">\n       <defs>\n        <path d=\"M 31.78125 66.40625 \nQ 24.171875 66.40625 20.328125 58.90625 \nQ 16.5 51.421875 16.5 36.375 \nQ 16.5 21.390625 20.328125 13.890625 \nQ 24.171875 6.390625 31.78125 6.390625 \nQ 39.453125 6.390625 43.28125 13.890625 \nQ 47.125 21.390625 47.125 36.375 \nQ 47.125 51.421875 43.28125 58.90625 \nQ 39.453125 66.40625 31.78125 66.40625 \nz\nM 31.78125 74.21875 \nQ 44.046875 74.21875 50.515625 64.515625 \nQ 56.984375 54.828125 56.984375 36.375 \nQ 56.984375 17.96875 50.515625 8.265625 \nQ 44.046875 -1.421875 31.78125 -1.421875 \nQ 19.53125 -1.421875 13.0625 8.265625 \nQ 6.59375 17.96875 6.59375 36.375 \nQ 6.59375 54.828125 13.0625 64.515625 \nQ 19.53125 74.21875 31.78125 74.21875 \nz\n\" id=\"DejaVuSans-48\"/>\n       </defs>\n       <use xlink:href=\"#DejaVuSans-48\"/>\n      </g>\n     </g>\n    </g>\n    <g id=\"ytick_2\">\n     <g id=\"line2d_5\">\n      <path clip-path=\"url(#p34737eea5a)\" d=\"M 33.2875 157.073321 \nL 368.0875 157.073321 \n\" style=\"fill:none;stroke:#b0b0b0;stroke-linecap:square;stroke-width:0.8;\"/>\n     </g>\n     <g id=\"line2d_6\">\n      <g>\n       <use style=\"stroke:#000000;stroke-width:0.8;\" x=\"33.2875\" xlink:href=\"#mdf56821227\" y=\"157.073321\"/>\n      </g>\n     </g>\n     <g id=\"text_3\">\n      <!-- 5 -->\n      <g transform=\"translate(16.74375 162.772149)scale(0.15 -0.15)\">\n       <defs>\n        <path d=\"M 10.796875 72.90625 \nL 49.515625 72.90625 \nL 49.515625 64.59375 \nL 19.828125 64.59375 \nL 19.828125 46.734375 \nQ 21.96875 47.46875 24.109375 47.828125 \nQ 26.265625 48.1875 28.421875 48.1875 \nQ 40.625 48.1875 47.75 41.5 \nQ 54.890625 34.8125 54.890625 23.390625 \nQ 54.890625 11.625 47.5625 5.09375 \nQ 40.234375 -1.421875 26.90625 -1.421875 \nQ 22.3125 -1.421875 17.546875 -0.640625 \nQ 12.796875 0.140625 7.71875 1.703125 \nL 7.71875 11.625 \nQ 12.109375 9.234375 16.796875 8.0625 \nQ 21.484375 6.890625 26.703125 6.890625 \nQ 35.15625 6.890625 40.078125 11.328125 \nQ 45.015625 15.765625 45.015625 23.390625 \nQ 45.015625 31 40.078125 35.4375 \nQ 35.15625 39.890625 26.703125 39.890625 \nQ 22.75 39.890625 18.8125 39.015625 \nQ 14.890625 38.140625 10.796875 36.28125 \nz\n\" id=\"DejaVuSans-53\"/>\n       </defs>\n       <use xlink:href=\"#DejaVuSans-53\"/>\n      </g>\n     </g>\n    </g>\n    <g id=\"ytick_3\">\n     <g id=\"line2d_7\">\n      <path clip-path=\"url(#p34737eea5a)\" d=\"M 33.2875 102.404877 \nL 368.0875 102.404877 \n\" style=\"fill:none;stroke:#b0b0b0;stroke-linecap:square;stroke-width:0.8;\"/>\n     </g>\n     <g id=\"line2d_8\">\n      <g>\n       <use style=\"stroke:#000000;stroke-width:0.8;\" x=\"33.2875\" xlink:href=\"#mdf56821227\" y=\"102.404877\"/>\n      </g>\n     </g>\n     <g id=\"text_4\">\n      <!-- 10 -->\n      <g transform=\"translate(7.2 108.103705)scale(0.15 -0.15)\">\n       <defs>\n        <path d=\"M 12.40625 8.296875 \nL 28.515625 8.296875 \nL 28.515625 63.921875 \nL 10.984375 60.40625 \nL 10.984375 69.390625 \nL 28.421875 72.90625 \nL 38.28125 72.90625 \nL 38.28125 8.296875 \nL 54.390625 8.296875 \nL 54.390625 0 \nL 12.40625 0 \nz\n\" id=\"DejaVuSans-49\"/>\n       </defs>\n       <use xlink:href=\"#DejaVuSans-49\"/>\n       <use x=\"63.623047\" xlink:href=\"#DejaVuSans-48\"/>\n      </g>\n     </g>\n    </g>\n    <g id=\"ytick_4\">\n     <g id=\"line2d_9\">\n      <path clip-path=\"url(#p34737eea5a)\" d=\"M 33.2875 47.736434 \nL 368.0875 47.736434 \n\" style=\"fill:none;stroke:#b0b0b0;stroke-linecap:square;stroke-width:0.8;\"/>\n     </g>\n     <g id=\"line2d_10\">\n      <g>\n       <use style=\"stroke:#000000;stroke-width:0.8;\" x=\"33.2875\" xlink:href=\"#mdf56821227\" y=\"47.736434\"/>\n      </g>\n     </g>\n     <g id=\"text_5\">\n      <!-- 15 -->\n      <g transform=\"translate(7.2 53.435262)scale(0.15 -0.15)\">\n       <use xlink:href=\"#DejaVuSans-49\"/>\n       <use x=\"63.623047\" xlink:href=\"#DejaVuSans-53\"/>\n      </g>\n     </g>\n    </g>\n   </g>\n   <g id=\"line2d_11\">\n    <path clip-path=\"url(#p34737eea5a)\" d=\"M 175.5775 213.857054 \nL 225.7975 213.857054 \nL 225.7975 21.424401 \nL 175.5775 21.424401 \nL 175.5775 213.857054 \n\" style=\"fill:none;stroke:#1f77b4;stroke-linecap:square;\"/>\n   </g>\n   <g id=\"line2d_12\">\n    <path clip-path=\"url(#p34737eea5a)\" d=\"M 200.6875 213.857054 \nL 200.6875 214.756364 \n\" style=\"fill:none;stroke:#1f77b4;stroke-linecap:square;\"/>\n   </g>\n   <g id=\"line2d_13\">\n    <path clip-path=\"url(#p34737eea5a)\" d=\"M 200.6875 21.424401 \nL 200.6875 17.083636 \n\" style=\"fill:none;stroke:#1f77b4;stroke-linecap:square;\"/>\n   </g>\n   <g id=\"line2d_14\">\n    <path clip-path=\"url(#p34737eea5a)\" d=\"M 188.1325 214.756364 \nL 213.2425 214.756364 \n\" style=\"fill:none;stroke:#000000;stroke-linecap:square;\"/>\n   </g>\n   <g id=\"line2d_15\">\n    <path clip-path=\"url(#p34737eea5a)\" d=\"M 188.1325 17.083636 \nL 213.2425 17.083636 \n\" style=\"fill:none;stroke:#000000;stroke-linecap:square;\"/>\n   </g>\n   <g id=\"line2d_16\"/>\n   <g id=\"line2d_17\">\n    <path clip-path=\"url(#p34737eea5a)\" d=\"M 175.5775 38.916337 \nL 225.7975 38.916337 \n\" style=\"fill:none;stroke:#2ca02c;stroke-linecap:square;\"/>\n   </g>\n   <g id=\"patch_3\">\n    <path d=\"M 33.2875 224.64 \nL 33.2875 7.2 \n\" style=\"fill:none;stroke:#000000;stroke-linecap:square;stroke-linejoin:miter;stroke-width:0.8;\"/>\n   </g>\n   <g id=\"patch_4\">\n    <path d=\"M 368.0875 224.64 \nL 368.0875 7.2 \n\" style=\"fill:none;stroke:#000000;stroke-linecap:square;stroke-linejoin:miter;stroke-width:0.8;\"/>\n   </g>\n   <g id=\"patch_5\">\n    <path d=\"M 33.2875 224.64 \nL 368.0875 224.64 \n\" style=\"fill:none;stroke:#000000;stroke-linecap:square;stroke-linejoin:miter;stroke-width:0.8;\"/>\n   </g>\n   <g id=\"patch_6\">\n    <path d=\"M 33.2875 7.2 \nL 368.0875 7.2 \n\" style=\"fill:none;stroke:#000000;stroke-linecap:square;stroke-linejoin:miter;stroke-width:0.8;\"/>\n   </g>\n  </g>\n </g>\n <defs>\n  <clipPath id=\"p34737eea5a\">\n   <rect height=\"217.44\" width=\"334.8\" x=\"33.2875\" y=\"7.2\"/>\n  </clipPath>\n </defs>\n</svg>\n",
      "image/png": "[encoded data removed]"
     },
     "metadata": {
      "needs_background": "light"
     }
    }
   ],
   "source": [
    "_, bp = res.boxplot(column=['Recovery latencies in [s], n=3'], fontsize=15, return_type='both')"
   ]
  }
 ]
}
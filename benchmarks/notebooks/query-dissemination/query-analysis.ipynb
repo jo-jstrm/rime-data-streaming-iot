{
 "metadata": {
  "language_info": {
   "codemirror_mode": {
    "name": "ipython",
    "version": 3
   },
   "file_extension": ".py",
   "mimetype": "text/x-python",
   "name": "python",
   "nbconvert_exporter": "python",
   "pygments_lexer": "ipython3",
   "version": "3.6.9"
  },
  "orig_nbformat": 2,
  "kernelspec": {
   "name": "python3",
   "display_name": "Python 3.6.9 64-bit",
   "metadata": {
    "interpreter": {
     "hash": "767d51c1340bd893661ea55ea3124f6de3c7a262a8b4abca0554b478b1e2ff90"
    }
   }
  }
 },
 "nbformat": 4,
 "nbformat_minor": 2,
 "cells": [
  {
   "source": [
    "# Analyse results for query dissemination experiment"
   ],
   "cell_type": "markdown",
   "metadata": {}
  },
  {
   "cell_type": "code",
   "execution_count": 19,
   "metadata": {
    "tags": []
   },
   "outputs": [],
   "source": [
    "import os\n",
    "import pandas as pd\n",
    "import numpy as np\n",
    "import matplotlib.pyplot as plt\n",
    "\n",
    "pd.set_option('display.max_rows', 500)"
   ]
  },
  {
   "source": [
    "# 1. Parse Logfiles"
   ],
   "cell_type": "markdown",
   "metadata": {}
  },
  {
   "cell_type": "code",
   "execution_count": 20,
   "metadata": {},
   "outputs": [],
   "source": [
    "paths = {\n",
    "    \"10\": \"../../logs/query-dissemination/29-03-2021/selectivity_10\",\n",
    "    \"25\": \"../../logs/query-dissemination/29-03-2021/selectivity_25\",\n",
    "    \"80\": \"../../logs/query-dissemination/29-03-2021/selectivity_80\"\n",
    "}\n",
    "\n",
    "num_nodes = 73 # number of nodes per run\n",
    "\n",
    "num_runs = {\n",
    "    10:3,\n",
    "    25:3,\n",
    "    80:3\n",
    "}"
   ]
  },
  {
   "cell_type": "code",
   "execution_count": 21,
   "metadata": {},
   "outputs": [],
   "source": [
    "# The function stores the lat and lon values for each selectivity.\n",
    "def determine_values(selectivity, idx):\n",
    "    selectivity_to_values = {\n",
    "        10:(90.0,0.0),\n",
    "        25:(50.0, 50.0),\n",
    "        80:(20.0,0.0)        \n",
    "    }\n",
    "    val = selectivity_to_values[selectivity]\n",
    "    return val[idx]"
   ]
  },
  {
   "cell_type": "code",
   "execution_count": 22,
   "metadata": {
    "tags": []
   },
   "outputs": [
    {
     "output_type": "stream",
     "name": "stdout",
     "text": [
      "selectivity      int32\nrun              int32\nnode_id          int32\nlat            float64\nlon            float64\ndtype: object\n"
     ]
    },
    {
     "output_type": "execute_result",
     "data": {
      "text/plain": [
       "     selectivity  run  node_id        lat        lon\n",
       "0             10    2        3  54.629926  78.552097\n",
       "1             10    2       48  86.991263  95.038275\n",
       "2             10    2       40  36.215096  45.616298\n",
       "3             10    2       21   1.907784  95.965673\n",
       "4             10    2       59  12.370182  79.426896\n",
       "..           ...  ...      ...        ...        ...\n",
       "652           80    1       69  50.133969  18.371031\n",
       "653           80    1       17  72.837441   6.926584\n",
       "654           80    1       66  46.430967  66.578599\n",
       "655           80    1       47  81.882704  70.319071\n",
       "656           80    1       28  82.645496  59.484684\n",
       "\n",
       "[657 rows x 5 columns]"
      ],
      "text/html": "<div>\n<style scoped>\n    .dataframe tbody tr th:only-of-type {\n        vertical-align: middle;\n    }\n\n    .dataframe tbody tr th {\n        vertical-align: top;\n    }\n\n    .dataframe thead th {\n        text-align: right;\n    }\n</style>\n<table border=\"1\" class=\"dataframe\">\n  <thead>\n    <tr style=\"text-align: right;\">\n      <th></th>\n      <th>selectivity</th>\n      <th>run</th>\n      <th>node_id</th>\n      <th>lat</th>\n      <th>lon</th>\n    </tr>\n  </thead>\n  <tbody>\n    <tr>\n      <th>0</th>\n      <td>10</td>\n      <td>2</td>\n      <td>3</td>\n      <td>54.629926</td>\n      <td>78.552097</td>\n    </tr>\n    <tr>\n      <th>1</th>\n      <td>10</td>\n      <td>2</td>\n      <td>48</td>\n      <td>86.991263</td>\n      <td>95.038275</td>\n    </tr>\n    <tr>\n      <th>2</th>\n      <td>10</td>\n      <td>2</td>\n      <td>40</td>\n      <td>36.215096</td>\n      <td>45.616298</td>\n    </tr>\n    <tr>\n      <th>3</th>\n      <td>10</td>\n      <td>2</td>\n      <td>21</td>\n      <td>1.907784</td>\n      <td>95.965673</td>\n    </tr>\n    <tr>\n      <th>4</th>\n      <td>10</td>\n      <td>2</td>\n      <td>59</td>\n      <td>12.370182</td>\n      <td>79.426896</td>\n    </tr>\n    <tr>\n      <th>...</th>\n      <td>...</td>\n      <td>...</td>\n      <td>...</td>\n      <td>...</td>\n      <td>...</td>\n    </tr>\n    <tr>\n      <th>652</th>\n      <td>80</td>\n      <td>1</td>\n      <td>69</td>\n      <td>50.133969</td>\n      <td>18.371031</td>\n    </tr>\n    <tr>\n      <th>653</th>\n      <td>80</td>\n      <td>1</td>\n      <td>17</td>\n      <td>72.837441</td>\n      <td>6.926584</td>\n    </tr>\n    <tr>\n      <th>654</th>\n      <td>80</td>\n      <td>1</td>\n      <td>66</td>\n      <td>46.430967</td>\n      <td>66.578599</td>\n    </tr>\n    <tr>\n      <th>655</th>\n      <td>80</td>\n      <td>1</td>\n      <td>47</td>\n      <td>81.882704</td>\n      <td>70.319071</td>\n    </tr>\n    <tr>\n      <th>656</th>\n      <td>80</td>\n      <td>1</td>\n      <td>28</td>\n      <td>82.645496</td>\n      <td>59.484684</td>\n    </tr>\n  </tbody>\n</table>\n<p>657 rows × 5 columns</p>\n</div>"
     },
     "metadata": {},
     "execution_count": 22
    }
   ],
   "source": [
    "sels = []\n",
    "categories = []\n",
    "node_ids = []\n",
    "lats = []\n",
    "lons = []\n",
    "runs = []\n",
    "connect_outliers = []\n",
    "\n",
    "received = []\n",
    "runs_rec = []\n",
    "sels_received = []\n",
    "query_times = []\n",
    "\n",
    "startup_times = {}\n",
    "\n",
    "for selectivity in paths:\n",
    "    for root, dirs, files in os.walk(paths[selectivity]):\n",
    "        #print(\"Root: \" + root)\n",
    "        run = root.split(\"/\")[-1].split(\"_\")[-1]            \n",
    "        for file in files :\n",
    "            #print(\"File: \" + file)\n",
    "            n_id = file[:6]  \n",
    "            if n_id[:4] != 'base' :       \n",
    "                # get node_id\n",
    "                if n_id[-1:] == '_' :\n",
    "                    node_id = int(n_id[4:5])                \n",
    "                else :\n",
    "                    node_id = int(n_id[4:6])\n",
    "            #print(node_id)\n",
    "            with open(os.path.join(root, file)) as log:             \n",
    "                connect_attempts = 0\n",
    "                query_time = 100000\n",
    "\n",
    "                for line in log :            \n",
    "                    log_time = int(line.split(\" \")[0])\n",
    "                    elem = line.split( )                \n",
    "\n",
    "                    if \"initial attribute range\" in line: \n",
    "                        tmp = str(elem[-1:])\n",
    "                        t = tmp[3:-3]                    \n",
    "                        coords = t.split(',')\n",
    "                        lat = float(coords[0])\n",
    "                        lon = float(coords[1])\n",
    "                        \n",
    "                        node_ids.append( node_id)\n",
    "                        lats.append(lat)\n",
    "                        lons.append(lon)\n",
    "                        runs.append(run)\n",
    "                        sels.append(selectivity)\n",
    "                    if \"! RECEIVED QUERY\" in line :\n",
    "                        received.append(int(node_id))\n",
    "                        runs_rec.append(run)     \n",
    "                        sels_received.append(selectivity)\n",
    "\n",
    "                        query_time = elem[8]\n",
    "                        query_times.append(query_time)\n",
    "                    elif \"STARTUP TIME\" in line:\n",
    "                        elem = line.split( )\n",
    "                        startup_times[(selectivity, run)] = int(elem[-1])\n",
    "                    # sanity checks\n",
    "                    if \"ACTOR DOWN\" in line and log_time < query_time and time < 59000:\n",
    "                        print(\"Actor down in: selectivity \" + selectivity + \", run \" + str(run) + \", node\" + str(node_id) + \", query time: \" \n",
    "                                + str(query_time) + \", log_time: \" + str(log_time))     \n",
    "                    if \"RECONNECTING TO INITIAL PARENT\" in line:\n",
    "                        print(\"Initial connection issues in: selectivity \" + selectivity + \", run \" + str(run) + \", node\" + str(node_id))     \n",
    "                    if \"could not reach\" in line:                        \n",
    "                        print(\"Found Error in: selectivity \" + selectivity + \", run \" + run + \", node\" + node_id) \n",
    "                \n",
    "                if (connect_attempts > 5):\n",
    "                    m_connect_outliers.append(\"run \" + run + \" node \" + node_id)\n",
    "            \n",
    "#print(received)\n",
    "#print('node_ids ' + str(len(node_ids)))\n",
    "#print('categories ' + str(len(categories)))\n",
    "#print('lat ' + str(len(lats)))\n",
    "#print('lon ' + str(len(lons)))\n",
    "#print(len(sels))\n",
    "\n",
    "initial_ranges_tmp = pd.DataFrame(np.column_stack([sels,runs,node_ids, lats, lons]), columns=['selectivity','run', 'node_id','lat', 'lon'])\n",
    "\n",
    "initial_ranges = initial_ranges_tmp.astype({\n",
    "    'selectivity':'int32',\n",
    "    'run':'int32',\n",
    "    'node_id':'int32',\n",
    "    'lat':'float',\n",
    "    'lon':'float'\n",
    "})\n",
    "\n",
    "print(initial_ranges.dtypes)\n",
    "initial_ranges"
   ]
  },
  {
   "source": [
    "## Outliers &  Sanity checks"
   ],
   "cell_type": "markdown",
   "metadata": {}
  },
  {
   "cell_type": "code",
   "execution_count": 23,
   "metadata": {},
   "outputs": [
    {
     "output_type": "stream",
     "name": "stdout",
     "text": [
      "Nodes with connection issues:\n"
     ]
    },
    {
     "output_type": "execute_result",
     "data": {
      "text/plain": [
       "[]"
      ]
     },
     "metadata": {},
     "execution_count": 23
    }
   ],
   "source": [
    "print(\"Nodes with connection issues:\")\n",
    "connect_outliers"
   ]
  },
  {
   "cell_type": "code",
   "execution_count": 24,
   "metadata": {},
   "outputs": [
    {
     "output_type": "execute_result",
     "data": {
      "text/plain": [
       "Empty DataFrame\n",
       "Columns: [selectivity, run, node_id, lat, lon]\n",
       "Index: []"
      ],
      "text/html": "<div>\n<style scoped>\n    .dataframe tbody tr th:only-of-type {\n        vertical-align: middle;\n    }\n\n    .dataframe tbody tr th {\n        vertical-align: top;\n    }\n\n    .dataframe thead th {\n        text-align: right;\n    }\n</style>\n<table border=\"1\" class=\"dataframe\">\n  <thead>\n    <tr style=\"text-align: right;\">\n      <th></th>\n      <th>selectivity</th>\n      <th>run</th>\n      <th>node_id</th>\n      <th>lat</th>\n      <th>lon</th>\n    </tr>\n  </thead>\n  <tbody>\n  </tbody>\n</table>\n</div>"
     },
     "metadata": {},
     "execution_count": 24
    }
   ],
   "source": [
    "nan = initial_ranges[initial_ranges.isna().any(axis=1)]\n",
    "nan"
   ]
  },
  {
   "cell_type": "code",
   "execution_count": 25,
   "metadata": {},
   "outputs": [
    {
     "output_type": "execute_result",
     "data": {
      "text/plain": [
       "Empty DataFrame\n",
       "Columns: [selectivity, run, node_id, lat, lon]\n",
       "Index: []"
      ],
      "text/html": "<div>\n<style scoped>\n    .dataframe tbody tr th:only-of-type {\n        vertical-align: middle;\n    }\n\n    .dataframe tbody tr th {\n        vertical-align: top;\n    }\n\n    .dataframe thead th {\n        text-align: right;\n    }\n</style>\n<table border=\"1\" class=\"dataframe\">\n  <thead>\n    <tr style=\"text-align: right;\">\n      <th></th>\n      <th>selectivity</th>\n      <th>run</th>\n      <th>node_id</th>\n      <th>lat</th>\n      <th>lon</th>\n    </tr>\n  </thead>\n  <tbody>\n  </tbody>\n</table>\n</div>"
     },
     "metadata": {},
     "execution_count": 25
    }
   ],
   "source": [
    "nul = initial_ranges[initial_ranges.isnull().any(axis=1)]\n",
    "nul"
   ]
  },
  {
   "source": [
    "# 2. Determine which nodes received the query\n",
    "For all selectivities, create a df that contains all nodes that received the query in each run"
   ],
   "cell_type": "markdown",
   "metadata": {}
  },
  {
   "cell_type": "code",
   "execution_count": 26,
   "metadata": {},
   "outputs": [
    {
     "output_type": "execute_result",
     "data": {
      "text/plain": [
       "     selectivity  run  node_id  time_received\n",
       "0             10    2       10    25086715489\n",
       "1             10    2       30    25087269487\n",
       "2             10    2       69    25087452570\n",
       "3             10    2       54    25087785176\n",
       "4             10    2        0    25085662189\n",
       "5             10    2       61    25087329879\n",
       "6             10    2        9    25087362870\n",
       "7             10    2        8    25087490836\n",
       "8             10    2        6    25087796774\n",
       "9             10    2        1    25086718005\n",
       "10            10    2       64    25086794593\n",
       "11            10    2       12    25087802013\n",
       "12            10    1       68    25195817540\n",
       "13            10    1       46    25195399227\n",
       "14            10    1       28    25195374360\n",
       "15            10    1       55    25195364693\n",
       "16            10    1       13    25195859025\n",
       "17            10    1       37    25195439086\n",
       "18            10    1       62    25195814391\n",
       "19            10    1       71    25195962998\n",
       "20            10    1       56    25195783758\n",
       "21            10    1        0    25194920452\n",
       "22            10    1       16    25195804848\n",
       "23            10    1       45    25195790012\n",
       "24            10    1       48    25195972104\n",
       "25            10    0       27    25501858644\n",
       "26            10    0       58    25501459640\n",
       "27            10    0       28    25501026773\n",
       "28            10    0       38    25501926226\n",
       "29            10    0       21    25501738325\n",
       "30            10    0       17    25501695439\n",
       "31            10    0       56    25502099490\n",
       "32            10    0       19    25501137394\n",
       "33            10    0       59    25501985959\n",
       "34            10    0        0    25500569029\n",
       "35            10    0       55    25501441357\n",
       "36            10    0       29    25502037144\n",
       "37            10    0       46    25501406732\n",
       "38            25    2       46    25481384240\n",
       "39            25    2       50    25482196481\n",
       "40            25    2       51    25482196890\n",
       "41            25    2       14    25481918140\n",
       "42            25    2       15    25482273616\n",
       "43            25    2       36    25482021436\n",
       "44            25    2       45    25482167128\n",
       "45            25    2        0    25480751767\n",
       "46            25    2       53    25482076433\n",
       "47            25    2       38    25482059471\n",
       "48            25    2       65    25482123343\n",
       "49            25    2       60    25482205839\n",
       "50            25    2       37    25481415831\n",
       "51            25    2        2    25482134894\n",
       "52            25    2       64    25481445737\n",
       "53            25    2       32    25482082585\n",
       "54            25    2       68    25482100445\n",
       "55            25    2       63    25482185997\n",
       "56            25    0       57    25291364124\n",
       "57            25    0        4    25290935608\n",
       "58            25    0       66    25291082257\n",
       "59            25    0       36    25291329579\n",
       "60            25    0        2    25291076993\n",
       "61            25    0       28    25290396565\n",
       "62            25    0       21    25291001475\n",
       "63            25    0       49    25291221114\n",
       "64            25    0       63    25290904351\n",
       "65            25    0       62    25290786427\n",
       "66            25    0       64    25290374744\n",
       "67            25    0       23    25290834660\n",
       "68            25    0       70    25291077576\n",
       "69            25    0       42    25291349251\n",
       "70            25    0        6    25290799320\n",
       "71            25    0       67    25291294624\n",
       "72            25    0       51    25291036604\n",
       "73            25    0       27    25291405427\n",
       "74            25    0        0    25289876520\n",
       "75            25    0        8    25291311955\n",
       "76            25    0       58    25291414664\n",
       "77            25    0       19    25290330390\n",
       "78            25    0       48    25291064257\n",
       "79            25    0        3    25290973980\n",
       "80            25    0       18    25291152506\n",
       "81            25    0       54    25291167010\n",
       "82            25    0        1    25290286180\n",
       "83            25    0       34    25290968912\n",
       "84            25    1       24    25175744527\n",
       "85            25    1        8    25175704428\n",
       "86            25    1       15    25175414871\n",
       "87            25    1       46    25174634668\n",
       "88            25    1       59    25175993787\n",
       "89            25    1       60    25175505829\n",
       "90            25    1       10    25174650253\n",
       "91            25    1       69    25175589020\n",
       "92            25    1       44    25175248362\n",
       "93            25    1       65    25175486523\n",
       "94            25    1       72    25175565882\n",
       "95            25    1       12    25175369299\n",
       "96            25    1       55    25174663629\n",
       "97            25    1       23    25175789071\n",
       "98            25    1        4    25175836960\n",
       "99            25    1       64    25174705022\n",
       "100           25    1       41    25176078171\n",
       "101           25    1       56    25175975516\n",
       "102           25    1        0    25174180869\n",
       "103           25    1       17    25175412793\n",
       "104           25    1       18    25176000540\n",
       "105           25    1       47    25175824217\n",
       "106           25    1       67    25175273901\n",
       "107           80    0       52    25167124800\n",
       "108           80    0       11    25166570588\n",
       "109           80    0        2    25167785440\n",
       "110           80    0       22    25166571125\n",
       "111           80    0       41    25166594644\n",
       "112           80    0       45    25167720190\n",
       "113           80    0        8    25166036171\n",
       "114           80    0       56    25167768881\n",
       "115           80    0       46    25165291537\n",
       "116           80    0       64    25165418579\n",
       "117           80    0       32    25166396138\n",
       "118           80    0       65    25167141758\n",
       "119           80    0        6    25166035214\n",
       "120           80    0       29    25167763806\n",
       "121           80    0       57    25166072012\n",
       "122           80    0       69    25167135641\n",
       "123           80    0       13    25166507460\n",
       "124           80    0       39    25166908515\n",
       "125           80    0       61    25166372481\n",
       "126           80    0       31    25165832753\n",
       "127           80    0       54    25165811031\n",
       "128           80    0       40    25166736705\n",
       "129           80    0        1    25165189935\n",
       "130           80    0       27    25166601104\n",
       "131           80    0       67    25166902447\n",
       "132           80    0       25    25166389791\n",
       "133           80    0       44    25167679131\n",
       "134           80    0        7    25167690555\n",
       "135           80    0       66    25166895492\n",
       "136           80    0       24    25167880687\n",
       "137           80    0       35    25167968234\n",
       "138           80    0        4    25166663844\n",
       "139           80    0       12    25167151486\n",
       "140           80    0       28    25165290367\n",
       "141           80    0       18    25166987822\n",
       "142           80    0       19    25165189928\n",
       "143           80    0       42    25166547947\n",
       "144           80    0        0    25164614140\n",
       "145           80    0       20    25166937699\n",
       "146           80    0       55    25165340837\n",
       "147           80    0        3    25166204811\n",
       "148           80    0       49    25167124091\n",
       "149           80    0       21    25166881107\n",
       "150           80    0       63    25167238793\n",
       "151           80    0       26    25166724742\n",
       "152           80    0       16    25166724105\n",
       "153           80    0       36    25167918743\n",
       "154           80    0       38    25166663970\n",
       "155           80    0       71    25166865017\n",
       "156           80    0       68    25166113572\n",
       "157           80    0       33    25166313604\n",
       "158           80    0       72    25167572261\n",
       "159           80    0       53    25166709552\n",
       "160           80    2       60    25067239955\n",
       "161           80    2       72    25066882338\n",
       "162           80    2        6    25068375667\n",
       "163           80    2       12    25067185737\n",
       "164           80    2       39    25066849065\n",
       "165           80    2       13    25067016482\n",
       "166           80    2       57    25068375921\n",
       "167           80    2       48    25066760189\n",
       "168           80    2        7    25067170757\n",
       "169           80    2        1    25065887716\n",
       "170           80    2       28    25065898926\n",
       "171           80    2       42    25066611108\n",
       "172           80    2       11    25066511932\n",
       "173           80    2       68    25067665143\n",
       "174           80    2       66    25066792049\n",
       "175           80    2       32    25067770176\n",
       "176           80    2        5    25068327623\n",
       "177           80    2        8    25067576643\n",
       "178           80    2       25    25069261107\n",
       "179           80    2       43    25066861710\n",
       "180           80    2       71    25066780444\n",
       "181           80    2       47    25067196387\n",
       "182           80    2       10    25065893178\n",
       "183           80    2       19    25065888706\n",
       "184           80    2       33    25066750718\n",
       "185           80    2       24    25067543405\n",
       "186           80    2       64    25066013074\n",
       "187           80    2       38    25067305575\n",
       "188           80    2        2    25066868398\n",
       "189           80    2       40    25067649654\n",
       "190           80    2       62    25066785872\n",
       "191           80    2       56    25066988028\n",
       "192           80    2       27    25068939449\n",
       "193           80    2       44    25068560418\n",
       "194           80    2       55    25067509682\n",
       "195           80    2       59    25068413821\n",
       "196           80    2       36    25067064582\n",
       "197           80    2       14    25068974904\n",
       "198           80    2        0    25065406371\n",
       "199           80    2       26    25066561560\n",
       "200           80    2       29    25067322706\n",
       "201           80    2       49    25067168439\n",
       "202           80    2       21    25066651714\n",
       "203           80    2       30    25067898153\n",
       "204           80    2       53    25066428270\n",
       "205           80    2       58    25068374231\n",
       "206           80    2       50    25066514062\n",
       "207           80    2        3    25067420432\n",
       "208           80    2       45    25067543443\n",
       "209           80    2        9    25068328362\n",
       "210           80    2       37    25066028594\n",
       "211           80    2       34    25067334838\n",
       "212           80    2       46    25065971358\n",
       "213           80    2       54    25066990308\n",
       "214           80    2       18    25068566684\n",
       "215           80    2       35    25067380650\n",
       "216           80    2       31    25067537587\n",
       "217           80    2       61    25066782493\n",
       "218           80    2       22    25066838951\n",
       "219           80    2       69    25067084627\n",
       "220           80    1       64    25334523420\n",
       "221           80    1       52    25334626828\n",
       "222           80    1        5    25337129029\n",
       "223           80    1        2    25337095585\n",
       "224           80    1       72    25338488350\n",
       "225           80    1       45    25334521946\n",
       "226           80    1        1    25333689445\n",
       "227           80    1       23    25334010857\n",
       "228           80    1       70    25334930561\n",
       "229           80    1        3    25335714431\n",
       "230           80    1       65    25337302620\n",
       "231           80    1       63    25335283059\n",
       "232           80    1       14    25334490355\n",
       "233           80    1       50    25338201530\n",
       "234           80    1       60    25337992946\n",
       "235           80    1       43    25337219019\n",
       "236           80    1       11    25334127615\n",
       "237           80    1        0    25332777845\n",
       "238           80    1       58    25337570355\n",
       "239           80    1       19    25333571008\n",
       "240           80    1       57    25337987358\n",
       "241           80    1        8    25334669113\n",
       "242           80    1       34    25335138159\n",
       "243           80    1       62    25337000043\n",
       "244           80    1       20    25337022758\n",
       "245           80    1        7    25338629228\n",
       "246           80    1       33    25334339351\n",
       "247           80    1        4    25337311945\n",
       "248           80    1       44    25334219437\n",
       "249           80    1       51    25337924856\n",
       "250           80    1       24    25334975731\n",
       "251           80    1       61    25334134521\n",
       "252           80    1       29    25335704201\n",
       "253           80    1       39    25334727515\n",
       "254           80    1       18    25337068562\n",
       "255           80    1       32    25336354072\n",
       "256           80    1       22    25338658311\n",
       "257           80    1       55    25333633476\n",
       "258           80    1       31    25335487750\n",
       "259           80    1        6    25335178085\n",
       "260           80    1       38    25335020857\n",
       "261           80    1       15    25334552343\n",
       "262           80    1       40    25337035056\n",
       "263           80    1       41    25336387639\n",
       "264           80    1        9    25334682654\n",
       "265           80    1       59    25334588798\n",
       "266           80    1       42    25338192795\n",
       "267           80    1       46    25333749909\n",
       "268           80    1       30    25334437198\n",
       "269           80    1       16    25335201169\n",
       "270           80    1       12    25334661462\n",
       "271           80    1       10    25335087239\n",
       "272           80    1       21    25334276110\n",
       "273           80    1       35    25336094123\n",
       "274           80    1       69    25334300513\n",
       "275           80    1       17    25334524877\n",
       "276           80    1       66    25337132039\n",
       "277           80    1       47    25337795786\n",
       "278           80    1       28    25333971673"
      ],
      "text/html": "<div>\n<style scoped>\n    .dataframe tbody tr th:only-of-type {\n        vertical-align: middle;\n    }\n\n    .dataframe tbody tr th {\n        vertical-align: top;\n    }\n\n    .dataframe thead th {\n        text-align: right;\n    }\n</style>\n<table border=\"1\" class=\"dataframe\">\n  <thead>\n    <tr style=\"text-align: right;\">\n      <th></th>\n      <th>selectivity</th>\n      <th>run</th>\n      <th>node_id</th>\n      <th>time_received</th>\n    </tr>\n  </thead>\n  <tbody>\n    <tr>\n      <th>0</th>\n      <td>10</td>\n      <td>2</td>\n      <td>10</td>\n      <td>25086715489</td>\n    </tr>\n    <tr>\n      <th>1</th>\n      <td>10</td>\n      <td>2</td>\n      <td>30</td>\n      <td>25087269487</td>\n    </tr>\n    <tr>\n      <th>2</th>\n      <td>10</td>\n      <td>2</td>\n      <td>69</td>\n      <td>25087452570</td>\n    </tr>\n    <tr>\n      <th>3</th>\n      <td>10</td>\n      <td>2</td>\n      <td>54</td>\n      <td>25087785176</td>\n    </tr>\n    <tr>\n      <th>4</th>\n      <td>10</td>\n      <td>2</td>\n      <td>0</td>\n      <td>25085662189</td>\n    </tr>\n    <tr>\n      <th>5</th>\n      <td>10</td>\n      <td>2</td>\n      <td>61</td>\n      <td>25087329879</td>\n    </tr>\n    <tr>\n      <th>6</th>\n      <td>10</td>\n      <td>2</td>\n      <td>9</td>\n      <td>25087362870</td>\n    </tr>\n    <tr>\n      <th>7</th>\n      <td>10</td>\n      <td>2</td>\n      <td>8</td>\n      <td>25087490836</td>\n    </tr>\n    <tr>\n      <th>8</th>\n      <td>10</td>\n      <td>2</td>\n      <td>6</td>\n      <td>25087796774</td>\n    </tr>\n    <tr>\n      <th>9</th>\n      <td>10</td>\n      <td>2</td>\n      <td>1</td>\n      <td>25086718005</td>\n    </tr>\n    <tr>\n      <th>10</th>\n      <td>10</td>\n      <td>2</td>\n      <td>64</td>\n      <td>25086794593</td>\n    </tr>\n    <tr>\n      <th>11</th>\n      <td>10</td>\n      <td>2</td>\n      <td>12</td>\n      <td>25087802013</td>\n    </tr>\n    <tr>\n      <th>12</th>\n      <td>10</td>\n      <td>1</td>\n      <td>68</td>\n      <td>25195817540</td>\n    </tr>\n    <tr>\n      <th>13</th>\n      <td>10</td>\n      <td>1</td>\n      <td>46</td>\n      <td>25195399227</td>\n    </tr>\n    <tr>\n      <th>14</th>\n      <td>10</td>\n      <td>1</td>\n      <td>28</td>\n      <td>25195374360</td>\n    </tr>\n    <tr>\n      <th>15</th>\n      <td>10</td>\n      <td>1</td>\n      <td>55</td>\n      <td>25195364693</td>\n    </tr>\n    <tr>\n      <th>16</th>\n      <td>10</td>\n      <td>1</td>\n      <td>13</td>\n      <td>25195859025</td>\n    </tr>\n    <tr>\n      <th>17</th>\n      <td>10</td>\n      <td>1</td>\n      <td>37</td>\n      <td>25195439086</td>\n    </tr>\n    <tr>\n      <th>18</th>\n      <td>10</td>\n      <td>1</td>\n      <td>62</td>\n      <td>25195814391</td>\n    </tr>\n    <tr>\n      <th>19</th>\n      <td>10</td>\n      <td>1</td>\n      <td>71</td>\n      <td>25195962998</td>\n    </tr>\n    <tr>\n      <th>20</th>\n      <td>10</td>\n      <td>1</td>\n      <td>56</td>\n      <td>25195783758</td>\n    </tr>\n    <tr>\n      <th>21</th>\n      <td>10</td>\n      <td>1</td>\n      <td>0</td>\n      <td>25194920452</td>\n    </tr>\n    <tr>\n      <th>22</th>\n      <td>10</td>\n      <td>1</td>\n      <td>16</td>\n      <td>25195804848</td>\n    </tr>\n    <tr>\n      <th>23</th>\n      <td>10</td>\n      <td>1</td>\n      <td>45</td>\n      <td>25195790012</td>\n    </tr>\n    <tr>\n      <th>24</th>\n      <td>10</td>\n      <td>1</td>\n      <td>48</td>\n      <td>25195972104</td>\n    </tr>\n    <tr>\n      <th>25</th>\n      <td>10</td>\n      <td>0</td>\n      <td>27</td>\n      <td>25501858644</td>\n    </tr>\n    <tr>\n      <th>26</th>\n      <td>10</td>\n      <td>0</td>\n      <td>58</td>\n      <td>25501459640</td>\n    </tr>\n    <tr>\n      <th>27</th>\n      <td>10</td>\n      <td>0</td>\n      <td>28</td>\n      <td>25501026773</td>\n    </tr>\n    <tr>\n      <th>28</th>\n      <td>10</td>\n      <td>0</td>\n      <td>38</td>\n      <td>25501926226</td>\n    </tr>\n    <tr>\n      <th>29</th>\n      <td>10</td>\n      <td>0</td>\n      <td>21</td>\n      <td>25501738325</td>\n    </tr>\n    <tr>\n      <th>30</th>\n      <td>10</td>\n      <td>0</td>\n      <td>17</td>\n      <td>25501695439</td>\n    </tr>\n    <tr>\n      <th>31</th>\n      <td>10</td>\n      <td>0</td>\n      <td>56</td>\n      <td>25502099490</td>\n    </tr>\n    <tr>\n      <th>32</th>\n      <td>10</td>\n      <td>0</td>\n      <td>19</td>\n      <td>25501137394</td>\n    </tr>\n    <tr>\n      <th>33</th>\n      <td>10</td>\n      <td>0</td>\n      <td>59</td>\n      <td>25501985959</td>\n    </tr>\n    <tr>\n      <th>34</th>\n      <td>10</td>\n      <td>0</td>\n      <td>0</td>\n      <td>25500569029</td>\n    </tr>\n    <tr>\n      <th>35</th>\n      <td>10</td>\n      <td>0</td>\n      <td>55</td>\n      <td>25501441357</td>\n    </tr>\n    <tr>\n      <th>36</th>\n      <td>10</td>\n      <td>0</td>\n      <td>29</td>\n      <td>25502037144</td>\n    </tr>\n    <tr>\n      <th>37</th>\n      <td>10</td>\n      <td>0</td>\n      <td>46</td>\n      <td>25501406732</td>\n    </tr>\n    <tr>\n      <th>38</th>\n      <td>25</td>\n      <td>2</td>\n      <td>46</td>\n      <td>25481384240</td>\n    </tr>\n    <tr>\n      <th>39</th>\n      <td>25</td>\n      <td>2</td>\n      <td>50</td>\n      <td>25482196481</td>\n    </tr>\n    <tr>\n      <th>40</th>\n      <td>25</td>\n      <td>2</td>\n      <td>51</td>\n      <td>25482196890</td>\n    </tr>\n    <tr>\n      <th>41</th>\n      <td>25</td>\n      <td>2</td>\n      <td>14</td>\n      <td>25481918140</td>\n    </tr>\n    <tr>\n      <th>42</th>\n      <td>25</td>\n      <td>2</td>\n      <td>15</td>\n      <td>25482273616</td>\n    </tr>\n    <tr>\n      <th>43</th>\n      <td>25</td>\n      <td>2</td>\n      <td>36</td>\n      <td>25482021436</td>\n    </tr>\n    <tr>\n      <th>44</th>\n      <td>25</td>\n      <td>2</td>\n      <td>45</td>\n      <td>25482167128</td>\n    </tr>\n    <tr>\n      <th>45</th>\n      <td>25</td>\n      <td>2</td>\n      <td>0</td>\n      <td>25480751767</td>\n    </tr>\n    <tr>\n      <th>46</th>\n      <td>25</td>\n      <td>2</td>\n      <td>53</td>\n      <td>25482076433</td>\n    </tr>\n    <tr>\n      <th>47</th>\n      <td>25</td>\n      <td>2</td>\n      <td>38</td>\n      <td>25482059471</td>\n    </tr>\n    <tr>\n      <th>48</th>\n      <td>25</td>\n      <td>2</td>\n      <td>65</td>\n      <td>25482123343</td>\n    </tr>\n    <tr>\n      <th>49</th>\n      <td>25</td>\n      <td>2</td>\n      <td>60</td>\n      <td>25482205839</td>\n    </tr>\n    <tr>\n      <th>50</th>\n      <td>25</td>\n      <td>2</td>\n      <td>37</td>\n      <td>25481415831</td>\n    </tr>\n    <tr>\n      <th>51</th>\n      <td>25</td>\n      <td>2</td>\n      <td>2</td>\n      <td>25482134894</td>\n    </tr>\n    <tr>\n      <th>52</th>\n      <td>25</td>\n      <td>2</td>\n      <td>64</td>\n      <td>25481445737</td>\n    </tr>\n    <tr>\n      <th>53</th>\n      <td>25</td>\n      <td>2</td>\n      <td>32</td>\n      <td>25482082585</td>\n    </tr>\n    <tr>\n      <th>54</th>\n      <td>25</td>\n      <td>2</td>\n      <td>68</td>\n      <td>25482100445</td>\n    </tr>\n    <tr>\n      <th>55</th>\n      <td>25</td>\n      <td>2</td>\n      <td>63</td>\n      <td>25482185997</td>\n    </tr>\n    <tr>\n      <th>56</th>\n      <td>25</td>\n      <td>0</td>\n      <td>57</td>\n      <td>25291364124</td>\n    </tr>\n    <tr>\n      <th>57</th>\n      <td>25</td>\n      <td>0</td>\n      <td>4</td>\n      <td>25290935608</td>\n    </tr>\n    <tr>\n      <th>58</th>\n      <td>25</td>\n      <td>0</td>\n      <td>66</td>\n      <td>25291082257</td>\n    </tr>\n    <tr>\n      <th>59</th>\n      <td>25</td>\n      <td>0</td>\n      <td>36</td>\n      <td>25291329579</td>\n    </tr>\n    <tr>\n      <th>60</th>\n      <td>25</td>\n      <td>0</td>\n      <td>2</td>\n      <td>25291076993</td>\n    </tr>\n    <tr>\n      <th>61</th>\n      <td>25</td>\n      <td>0</td>\n      <td>28</td>\n      <td>25290396565</td>\n    </tr>\n    <tr>\n      <th>62</th>\n      <td>25</td>\n      <td>0</td>\n      <td>21</td>\n      <td>25291001475</td>\n    </tr>\n    <tr>\n      <th>63</th>\n      <td>25</td>\n      <td>0</td>\n      <td>49</td>\n      <td>25291221114</td>\n    </tr>\n    <tr>\n      <th>64</th>\n      <td>25</td>\n      <td>0</td>\n      <td>63</td>\n      <td>25290904351</td>\n    </tr>\n    <tr>\n      <th>65</th>\n      <td>25</td>\n      <td>0</td>\n      <td>62</td>\n      <td>25290786427</td>\n    </tr>\n    <tr>\n      <th>66</th>\n      <td>25</td>\n      <td>0</td>\n      <td>64</td>\n      <td>25290374744</td>\n    </tr>\n    <tr>\n      <th>67</th>\n      <td>25</td>\n      <td>0</td>\n      <td>23</td>\n      <td>25290834660</td>\n    </tr>\n    <tr>\n      <th>68</th>\n      <td>25</td>\n      <td>0</td>\n      <td>70</td>\n      <td>25291077576</td>\n    </tr>\n    <tr>\n      <th>69</th>\n      <td>25</td>\n      <td>0</td>\n      <td>42</td>\n      <td>25291349251</td>\n    </tr>\n    <tr>\n      <th>70</th>\n      <td>25</td>\n      <td>0</td>\n      <td>6</td>\n      <td>25290799320</td>\n    </tr>\n    <tr>\n      <th>71</th>\n      <td>25</td>\n      <td>0</td>\n      <td>67</td>\n      <td>25291294624</td>\n    </tr>\n    <tr>\n      <th>72</th>\n      <td>25</td>\n      <td>0</td>\n      <td>51</td>\n      <td>25291036604</td>\n    </tr>\n    <tr>\n      <th>73</th>\n      <td>25</td>\n      <td>0</td>\n      <td>27</td>\n      <td>25291405427</td>\n    </tr>\n    <tr>\n      <th>74</th>\n      <td>25</td>\n      <td>0</td>\n      <td>0</td>\n      <td>25289876520</td>\n    </tr>\n    <tr>\n      <th>75</th>\n      <td>25</td>\n      <td>0</td>\n      <td>8</td>\n      <td>25291311955</td>\n    </tr>\n    <tr>\n      <th>76</th>\n      <td>25</td>\n      <td>0</td>\n      <td>58</td>\n      <td>25291414664</td>\n    </tr>\n    <tr>\n      <th>77</th>\n      <td>25</td>\n      <td>0</td>\n      <td>19</td>\n      <td>25290330390</td>\n    </tr>\n    <tr>\n      <th>78</th>\n      <td>25</td>\n      <td>0</td>\n      <td>48</td>\n      <td>25291064257</td>\n    </tr>\n    <tr>\n      <th>79</th>\n      <td>25</td>\n      <td>0</td>\n      <td>3</td>\n      <td>25290973980</td>\n    </tr>\n    <tr>\n      <th>80</th>\n      <td>25</td>\n      <td>0</td>\n      <td>18</td>\n      <td>25291152506</td>\n    </tr>\n    <tr>\n      <th>81</th>\n      <td>25</td>\n      <td>0</td>\n      <td>54</td>\n      <td>25291167010</td>\n    </tr>\n    <tr>\n      <th>82</th>\n      <td>25</td>\n      <td>0</td>\n      <td>1</td>\n      <td>25290286180</td>\n    </tr>\n    <tr>\n      <th>83</th>\n      <td>25</td>\n      <td>0</td>\n      <td>34</td>\n      <td>25290968912</td>\n    </tr>\n    <tr>\n      <th>84</th>\n      <td>25</td>\n      <td>1</td>\n      <td>24</td>\n      <td>25175744527</td>\n    </tr>\n    <tr>\n      <th>85</th>\n      <td>25</td>\n      <td>1</td>\n      <td>8</td>\n      <td>25175704428</td>\n    </tr>\n    <tr>\n      <th>86</th>\n      <td>25</td>\n      <td>1</td>\n      <td>15</td>\n      <td>25175414871</td>\n    </tr>\n    <tr>\n      <th>87</th>\n      <td>25</td>\n      <td>1</td>\n      <td>46</td>\n      <td>25174634668</td>\n    </tr>\n    <tr>\n      <th>88</th>\n      <td>25</td>\n      <td>1</td>\n      <td>59</td>\n      <td>25175993787</td>\n    </tr>\n    <tr>\n      <th>89</th>\n      <td>25</td>\n      <td>1</td>\n      <td>60</td>\n      <td>25175505829</td>\n    </tr>\n    <tr>\n      <th>90</th>\n      <td>25</td>\n      <td>1</td>\n      <td>10</td>\n      <td>25174650253</td>\n    </tr>\n    <tr>\n      <th>91</th>\n      <td>25</td>\n      <td>1</td>\n      <td>69</td>\n      <td>25175589020</td>\n    </tr>\n    <tr>\n      <th>92</th>\n      <td>25</td>\n      <td>1</td>\n      <td>44</td>\n      <td>25175248362</td>\n    </tr>\n    <tr>\n      <th>93</th>\n      <td>25</td>\n      <td>1</td>\n      <td>65</td>\n      <td>25175486523</td>\n    </tr>\n    <tr>\n      <th>94</th>\n      <td>25</td>\n      <td>1</td>\n      <td>72</td>\n      <td>25175565882</td>\n    </tr>\n    <tr>\n      <th>95</th>\n      <td>25</td>\n      <td>1</td>\n      <td>12</td>\n      <td>25175369299</td>\n    </tr>\n    <tr>\n      <th>96</th>\n      <td>25</td>\n      <td>1</td>\n      <td>55</td>\n      <td>25174663629</td>\n    </tr>\n    <tr>\n      <th>97</th>\n      <td>25</td>\n      <td>1</td>\n      <td>23</td>\n      <td>25175789071</td>\n    </tr>\n    <tr>\n      <th>98</th>\n      <td>25</td>\n      <td>1</td>\n      <td>4</td>\n      <td>25175836960</td>\n    </tr>\n    <tr>\n      <th>99</th>\n      <td>25</td>\n      <td>1</td>\n      <td>64</td>\n      <td>25174705022</td>\n    </tr>\n    <tr>\n      <th>100</th>\n      <td>25</td>\n      <td>1</td>\n      <td>41</td>\n      <td>25176078171</td>\n    </tr>\n    <tr>\n      <th>101</th>\n      <td>25</td>\n      <td>1</td>\n      <td>56</td>\n      <td>25175975516</td>\n    </tr>\n    <tr>\n      <th>102</th>\n      <td>25</td>\n      <td>1</td>\n      <td>0</td>\n      <td>25174180869</td>\n    </tr>\n    <tr>\n      <th>103</th>\n      <td>25</td>\n      <td>1</td>\n      <td>17</td>\n      <td>25175412793</td>\n    </tr>\n    <tr>\n      <th>104</th>\n      <td>25</td>\n      <td>1</td>\n      <td>18</td>\n      <td>25176000540</td>\n    </tr>\n    <tr>\n      <th>105</th>\n      <td>25</td>\n      <td>1</td>\n      <td>47</td>\n      <td>25175824217</td>\n    </tr>\n    <tr>\n      <th>106</th>\n      <td>25</td>\n      <td>1</td>\n      <td>67</td>\n      <td>25175273901</td>\n    </tr>\n    <tr>\n      <th>107</th>\n      <td>80</td>\n      <td>0</td>\n      <td>52</td>\n      <td>25167124800</td>\n    </tr>\n    <tr>\n      <th>108</th>\n      <td>80</td>\n      <td>0</td>\n      <td>11</td>\n      <td>25166570588</td>\n    </tr>\n    <tr>\n      <th>109</th>\n      <td>80</td>\n      <td>0</td>\n      <td>2</td>\n      <td>25167785440</td>\n    </tr>\n    <tr>\n      <th>110</th>\n      <td>80</td>\n      <td>0</td>\n      <td>22</td>\n      <td>25166571125</td>\n    </tr>\n    <tr>\n      <th>111</th>\n      <td>80</td>\n      <td>0</td>\n      <td>41</td>\n      <td>25166594644</td>\n    </tr>\n    <tr>\n      <th>112</th>\n      <td>80</td>\n      <td>0</td>\n      <td>45</td>\n      <td>25167720190</td>\n    </tr>\n    <tr>\n      <th>113</th>\n      <td>80</td>\n      <td>0</td>\n      <td>8</td>\n      <td>25166036171</td>\n    </tr>\n    <tr>\n      <th>114</th>\n      <td>80</td>\n      <td>0</td>\n      <td>56</td>\n      <td>25167768881</td>\n    </tr>\n    <tr>\n      <th>115</th>\n      <td>80</td>\n      <td>0</td>\n      <td>46</td>\n      <td>25165291537</td>\n    </tr>\n    <tr>\n      <th>116</th>\n      <td>80</td>\n      <td>0</td>\n      <td>64</td>\n      <td>25165418579</td>\n    </tr>\n    <tr>\n      <th>117</th>\n      <td>80</td>\n      <td>0</td>\n      <td>32</td>\n      <td>25166396138</td>\n    </tr>\n    <tr>\n      <th>118</th>\n      <td>80</td>\n      <td>0</td>\n      <td>65</td>\n      <td>25167141758</td>\n    </tr>\n    <tr>\n      <th>119</th>\n      <td>80</td>\n      <td>0</td>\n      <td>6</td>\n      <td>25166035214</td>\n    </tr>\n    <tr>\n      <th>120</th>\n      <td>80</td>\n      <td>0</td>\n      <td>29</td>\n      <td>25167763806</td>\n    </tr>\n    <tr>\n      <th>121</th>\n      <td>80</td>\n      <td>0</td>\n      <td>57</td>\n      <td>25166072012</td>\n    </tr>\n    <tr>\n      <th>122</th>\n      <td>80</td>\n      <td>0</td>\n      <td>69</td>\n      <td>25167135641</td>\n    </tr>\n    <tr>\n      <th>123</th>\n      <td>80</td>\n      <td>0</td>\n      <td>13</td>\n      <td>25166507460</td>\n    </tr>\n    <tr>\n      <th>124</th>\n      <td>80</td>\n      <td>0</td>\n      <td>39</td>\n      <td>25166908515</td>\n    </tr>\n    <tr>\n      <th>125</th>\n      <td>80</td>\n      <td>0</td>\n      <td>61</td>\n      <td>25166372481</td>\n    </tr>\n    <tr>\n      <th>126</th>\n      <td>80</td>\n      <td>0</td>\n      <td>31</td>\n      <td>25165832753</td>\n    </tr>\n    <tr>\n      <th>127</th>\n      <td>80</td>\n      <td>0</td>\n      <td>54</td>\n      <td>25165811031</td>\n    </tr>\n    <tr>\n      <th>128</th>\n      <td>80</td>\n      <td>0</td>\n      <td>40</td>\n      <td>25166736705</td>\n    </tr>\n    <tr>\n      <th>129</th>\n      <td>80</td>\n      <td>0</td>\n      <td>1</td>\n      <td>25165189935</td>\n    </tr>\n    <tr>\n      <th>130</th>\n      <td>80</td>\n      <td>0</td>\n      <td>27</td>\n      <td>25166601104</td>\n    </tr>\n    <tr>\n      <th>131</th>\n      <td>80</td>\n      <td>0</td>\n      <td>67</td>\n      <td>25166902447</td>\n    </tr>\n    <tr>\n      <th>132</th>\n      <td>80</td>\n      <td>0</td>\n      <td>25</td>\n      <td>25166389791</td>\n    </tr>\n    <tr>\n      <th>133</th>\n      <td>80</td>\n      <td>0</td>\n      <td>44</td>\n      <td>25167679131</td>\n    </tr>\n    <tr>\n      <th>134</th>\n      <td>80</td>\n      <td>0</td>\n      <td>7</td>\n      <td>25167690555</td>\n    </tr>\n    <tr>\n      <th>135</th>\n      <td>80</td>\n      <td>0</td>\n      <td>66</td>\n      <td>25166895492</td>\n    </tr>\n    <tr>\n      <th>136</th>\n      <td>80</td>\n      <td>0</td>\n      <td>24</td>\n      <td>25167880687</td>\n    </tr>\n    <tr>\n      <th>137</th>\n      <td>80</td>\n      <td>0</td>\n      <td>35</td>\n      <td>25167968234</td>\n    </tr>\n    <tr>\n      <th>138</th>\n      <td>80</td>\n      <td>0</td>\n      <td>4</td>\n      <td>25166663844</td>\n    </tr>\n    <tr>\n      <th>139</th>\n      <td>80</td>\n      <td>0</td>\n      <td>12</td>\n      <td>25167151486</td>\n    </tr>\n    <tr>\n      <th>140</th>\n      <td>80</td>\n      <td>0</td>\n      <td>28</td>\n      <td>25165290367</td>\n    </tr>\n    <tr>\n      <th>141</th>\n      <td>80</td>\n      <td>0</td>\n      <td>18</td>\n      <td>25166987822</td>\n    </tr>\n    <tr>\n      <th>142</th>\n      <td>80</td>\n      <td>0</td>\n      <td>19</td>\n      <td>25165189928</td>\n    </tr>\n    <tr>\n      <th>143</th>\n      <td>80</td>\n      <td>0</td>\n      <td>42</td>\n      <td>25166547947</td>\n    </tr>\n    <tr>\n      <th>144</th>\n      <td>80</td>\n      <td>0</td>\n      <td>0</td>\n      <td>25164614140</td>\n    </tr>\n    <tr>\n      <th>145</th>\n      <td>80</td>\n      <td>0</td>\n      <td>20</td>\n      <td>25166937699</td>\n    </tr>\n    <tr>\n      <th>146</th>\n      <td>80</td>\n      <td>0</td>\n      <td>55</td>\n      <td>25165340837</td>\n    </tr>\n    <tr>\n      <th>147</th>\n      <td>80</td>\n      <td>0</td>\n      <td>3</td>\n      <td>25166204811</td>\n    </tr>\n    <tr>\n      <th>148</th>\n      <td>80</td>\n      <td>0</td>\n      <td>49</td>\n      <td>25167124091</td>\n    </tr>\n    <tr>\n      <th>149</th>\n      <td>80</td>\n      <td>0</td>\n      <td>21</td>\n      <td>25166881107</td>\n    </tr>\n    <tr>\n      <th>150</th>\n      <td>80</td>\n      <td>0</td>\n      <td>63</td>\n      <td>25167238793</td>\n    </tr>\n    <tr>\n      <th>151</th>\n      <td>80</td>\n      <td>0</td>\n      <td>26</td>\n      <td>25166724742</td>\n    </tr>\n    <tr>\n      <th>152</th>\n      <td>80</td>\n      <td>0</td>\n      <td>16</td>\n      <td>25166724105</td>\n    </tr>\n    <tr>\n      <th>153</th>\n      <td>80</td>\n      <td>0</td>\n      <td>36</td>\n      <td>25167918743</td>\n    </tr>\n    <tr>\n      <th>154</th>\n      <td>80</td>\n      <td>0</td>\n      <td>38</td>\n      <td>25166663970</td>\n    </tr>\n    <tr>\n      <th>155</th>\n      <td>80</td>\n      <td>0</td>\n      <td>71</td>\n      <td>25166865017</td>\n    </tr>\n    <tr>\n      <th>156</th>\n      <td>80</td>\n      <td>0</td>\n      <td>68</td>\n      <td>25166113572</td>\n    </tr>\n    <tr>\n      <th>157</th>\n      <td>80</td>\n      <td>0</td>\n      <td>33</td>\n      <td>25166313604</td>\n    </tr>\n    <tr>\n      <th>158</th>\n      <td>80</td>\n      <td>0</td>\n      <td>72</td>\n      <td>25167572261</td>\n    </tr>\n    <tr>\n      <th>159</th>\n      <td>80</td>\n      <td>0</td>\n      <td>53</td>\n      <td>25166709552</td>\n    </tr>\n    <tr>\n      <th>160</th>\n      <td>80</td>\n      <td>2</td>\n      <td>60</td>\n      <td>25067239955</td>\n    </tr>\n    <tr>\n      <th>161</th>\n      <td>80</td>\n      <td>2</td>\n      <td>72</td>\n      <td>25066882338</td>\n    </tr>\n    <tr>\n      <th>162</th>\n      <td>80</td>\n      <td>2</td>\n      <td>6</td>\n      <td>25068375667</td>\n    </tr>\n    <tr>\n      <th>163</th>\n      <td>80</td>\n      <td>2</td>\n      <td>12</td>\n      <td>25067185737</td>\n    </tr>\n    <tr>\n      <th>164</th>\n      <td>80</td>\n      <td>2</td>\n      <td>39</td>\n      <td>25066849065</td>\n    </tr>\n    <tr>\n      <th>165</th>\n      <td>80</td>\n      <td>2</td>\n      <td>13</td>\n      <td>25067016482</td>\n    </tr>\n    <tr>\n      <th>166</th>\n      <td>80</td>\n      <td>2</td>\n      <td>57</td>\n      <td>25068375921</td>\n    </tr>\n    <tr>\n      <th>167</th>\n      <td>80</td>\n      <td>2</td>\n      <td>48</td>\n      <td>25066760189</td>\n    </tr>\n    <tr>\n      <th>168</th>\n      <td>80</td>\n      <td>2</td>\n      <td>7</td>\n      <td>25067170757</td>\n    </tr>\n    <tr>\n      <th>169</th>\n      <td>80</td>\n      <td>2</td>\n      <td>1</td>\n      <td>25065887716</td>\n    </tr>\n    <tr>\n      <th>170</th>\n      <td>80</td>\n      <td>2</td>\n      <td>28</td>\n      <td>25065898926</td>\n    </tr>\n    <tr>\n      <th>171</th>\n      <td>80</td>\n      <td>2</td>\n      <td>42</td>\n      <td>25066611108</td>\n    </tr>\n    <tr>\n      <th>172</th>\n      <td>80</td>\n      <td>2</td>\n      <td>11</td>\n      <td>25066511932</td>\n    </tr>\n    <tr>\n      <th>173</th>\n      <td>80</td>\n      <td>2</td>\n      <td>68</td>\n      <td>25067665143</td>\n    </tr>\n    <tr>\n      <th>174</th>\n      <td>80</td>\n      <td>2</td>\n      <td>66</td>\n      <td>25066792049</td>\n    </tr>\n    <tr>\n      <th>175</th>\n      <td>80</td>\n      <td>2</td>\n      <td>32</td>\n      <td>25067770176</td>\n    </tr>\n    <tr>\n      <th>176</th>\n      <td>80</td>\n      <td>2</td>\n      <td>5</td>\n      <td>25068327623</td>\n    </tr>\n    <tr>\n      <th>177</th>\n      <td>80</td>\n      <td>2</td>\n      <td>8</td>\n      <td>25067576643</td>\n    </tr>\n    <tr>\n      <th>178</th>\n      <td>80</td>\n      <td>2</td>\n      <td>25</td>\n      <td>25069261107</td>\n    </tr>\n    <tr>\n      <th>179</th>\n      <td>80</td>\n      <td>2</td>\n      <td>43</td>\n      <td>25066861710</td>\n    </tr>\n    <tr>\n      <th>180</th>\n      <td>80</td>\n      <td>2</td>\n      <td>71</td>\n      <td>25066780444</td>\n    </tr>\n    <tr>\n      <th>181</th>\n      <td>80</td>\n      <td>2</td>\n      <td>47</td>\n      <td>25067196387</td>\n    </tr>\n    <tr>\n      <th>182</th>\n      <td>80</td>\n      <td>2</td>\n      <td>10</td>\n      <td>25065893178</td>\n    </tr>\n    <tr>\n      <th>183</th>\n      <td>80</td>\n      <td>2</td>\n      <td>19</td>\n      <td>25065888706</td>\n    </tr>\n    <tr>\n      <th>184</th>\n      <td>80</td>\n      <td>2</td>\n      <td>33</td>\n      <td>25066750718</td>\n    </tr>\n    <tr>\n      <th>185</th>\n      <td>80</td>\n      <td>2</td>\n      <td>24</td>\n      <td>25067543405</td>\n    </tr>\n    <tr>\n      <th>186</th>\n      <td>80</td>\n      <td>2</td>\n      <td>64</td>\n      <td>25066013074</td>\n    </tr>\n    <tr>\n      <th>187</th>\n      <td>80</td>\n      <td>2</td>\n      <td>38</td>\n      <td>25067305575</td>\n    </tr>\n    <tr>\n      <th>188</th>\n      <td>80</td>\n      <td>2</td>\n      <td>2</td>\n      <td>25066868398</td>\n    </tr>\n    <tr>\n      <th>189</th>\n      <td>80</td>\n      <td>2</td>\n      <td>40</td>\n      <td>25067649654</td>\n    </tr>\n    <tr>\n      <th>190</th>\n      <td>80</td>\n      <td>2</td>\n      <td>62</td>\n      <td>25066785872</td>\n    </tr>\n    <tr>\n      <th>191</th>\n      <td>80</td>\n      <td>2</td>\n      <td>56</td>\n      <td>25066988028</td>\n    </tr>\n    <tr>\n      <th>192</th>\n      <td>80</td>\n      <td>2</td>\n      <td>27</td>\n      <td>25068939449</td>\n    </tr>\n    <tr>\n      <th>193</th>\n      <td>80</td>\n      <td>2</td>\n      <td>44</td>\n      <td>25068560418</td>\n    </tr>\n    <tr>\n      <th>194</th>\n      <td>80</td>\n      <td>2</td>\n      <td>55</td>\n      <td>25067509682</td>\n    </tr>\n    <tr>\n      <th>195</th>\n      <td>80</td>\n      <td>2</td>\n      <td>59</td>\n      <td>25068413821</td>\n    </tr>\n    <tr>\n      <th>196</th>\n      <td>80</td>\n      <td>2</td>\n      <td>36</td>\n      <td>25067064582</td>\n    </tr>\n    <tr>\n      <th>197</th>\n      <td>80</td>\n      <td>2</td>\n      <td>14</td>\n      <td>25068974904</td>\n    </tr>\n    <tr>\n      <th>198</th>\n      <td>80</td>\n      <td>2</td>\n      <td>0</td>\n      <td>25065406371</td>\n    </tr>\n    <tr>\n      <th>199</th>\n      <td>80</td>\n      <td>2</td>\n      <td>26</td>\n      <td>25066561560</td>\n    </tr>\n    <tr>\n      <th>200</th>\n      <td>80</td>\n      <td>2</td>\n      <td>29</td>\n      <td>25067322706</td>\n    </tr>\n    <tr>\n      <th>201</th>\n      <td>80</td>\n      <td>2</td>\n      <td>49</td>\n      <td>25067168439</td>\n    </tr>\n    <tr>\n      <th>202</th>\n      <td>80</td>\n      <td>2</td>\n      <td>21</td>\n      <td>25066651714</td>\n    </tr>\n    <tr>\n      <th>203</th>\n      <td>80</td>\n      <td>2</td>\n      <td>30</td>\n      <td>25067898153</td>\n    </tr>\n    <tr>\n      <th>204</th>\n      <td>80</td>\n      <td>2</td>\n      <td>53</td>\n      <td>25066428270</td>\n    </tr>\n    <tr>\n      <th>205</th>\n      <td>80</td>\n      <td>2</td>\n      <td>58</td>\n      <td>25068374231</td>\n    </tr>\n    <tr>\n      <th>206</th>\n      <td>80</td>\n      <td>2</td>\n      <td>50</td>\n      <td>25066514062</td>\n    </tr>\n    <tr>\n      <th>207</th>\n      <td>80</td>\n      <td>2</td>\n      <td>3</td>\n      <td>25067420432</td>\n    </tr>\n    <tr>\n      <th>208</th>\n      <td>80</td>\n      <td>2</td>\n      <td>45</td>\n      <td>25067543443</td>\n    </tr>\n    <tr>\n      <th>209</th>\n      <td>80</td>\n      <td>2</td>\n      <td>9</td>\n      <td>25068328362</td>\n    </tr>\n    <tr>\n      <th>210</th>\n      <td>80</td>\n      <td>2</td>\n      <td>37</td>\n      <td>25066028594</td>\n    </tr>\n    <tr>\n      <th>211</th>\n      <td>80</td>\n      <td>2</td>\n      <td>34</td>\n      <td>25067334838</td>\n    </tr>\n    <tr>\n      <th>212</th>\n      <td>80</td>\n      <td>2</td>\n      <td>46</td>\n      <td>25065971358</td>\n    </tr>\n    <tr>\n      <th>213</th>\n      <td>80</td>\n      <td>2</td>\n      <td>54</td>\n      <td>25066990308</td>\n    </tr>\n    <tr>\n      <th>214</th>\n      <td>80</td>\n      <td>2</td>\n      <td>18</td>\n      <td>25068566684</td>\n    </tr>\n    <tr>\n      <th>215</th>\n      <td>80</td>\n      <td>2</td>\n      <td>35</td>\n      <td>25067380650</td>\n    </tr>\n    <tr>\n      <th>216</th>\n      <td>80</td>\n      <td>2</td>\n      <td>31</td>\n      <td>25067537587</td>\n    </tr>\n    <tr>\n      <th>217</th>\n      <td>80</td>\n      <td>2</td>\n      <td>61</td>\n      <td>25066782493</td>\n    </tr>\n    <tr>\n      <th>218</th>\n      <td>80</td>\n      <td>2</td>\n      <td>22</td>\n      <td>25066838951</td>\n    </tr>\n    <tr>\n      <th>219</th>\n      <td>80</td>\n      <td>2</td>\n      <td>69</td>\n      <td>25067084627</td>\n    </tr>\n    <tr>\n      <th>220</th>\n      <td>80</td>\n      <td>1</td>\n      <td>64</td>\n      <td>25334523420</td>\n    </tr>\n    <tr>\n      <th>221</th>\n      <td>80</td>\n      <td>1</td>\n      <td>52</td>\n      <td>25334626828</td>\n    </tr>\n    <tr>\n      <th>222</th>\n      <td>80</td>\n      <td>1</td>\n      <td>5</td>\n      <td>25337129029</td>\n    </tr>\n    <tr>\n      <th>223</th>\n      <td>80</td>\n      <td>1</td>\n      <td>2</td>\n      <td>25337095585</td>\n    </tr>\n    <tr>\n      <th>224</th>\n      <td>80</td>\n      <td>1</td>\n      <td>72</td>\n      <td>25338488350</td>\n    </tr>\n    <tr>\n      <th>225</th>\n      <td>80</td>\n      <td>1</td>\n      <td>45</td>\n      <td>25334521946</td>\n    </tr>\n    <tr>\n      <th>226</th>\n      <td>80</td>\n      <td>1</td>\n      <td>1</td>\n      <td>25333689445</td>\n    </tr>\n    <tr>\n      <th>227</th>\n      <td>80</td>\n      <td>1</td>\n      <td>23</td>\n      <td>25334010857</td>\n    </tr>\n    <tr>\n      <th>228</th>\n      <td>80</td>\n      <td>1</td>\n      <td>70</td>\n      <td>25334930561</td>\n    </tr>\n    <tr>\n      <th>229</th>\n      <td>80</td>\n      <td>1</td>\n      <td>3</td>\n      <td>25335714431</td>\n    </tr>\n    <tr>\n      <th>230</th>\n      <td>80</td>\n      <td>1</td>\n      <td>65</td>\n      <td>25337302620</td>\n    </tr>\n    <tr>\n      <th>231</th>\n      <td>80</td>\n      <td>1</td>\n      <td>63</td>\n      <td>25335283059</td>\n    </tr>\n    <tr>\n      <th>232</th>\n      <td>80</td>\n      <td>1</td>\n      <td>14</td>\n      <td>25334490355</td>\n    </tr>\n    <tr>\n      <th>233</th>\n      <td>80</td>\n      <td>1</td>\n      <td>50</td>\n      <td>25338201530</td>\n    </tr>\n    <tr>\n      <th>234</th>\n      <td>80</td>\n      <td>1</td>\n      <td>60</td>\n      <td>25337992946</td>\n    </tr>\n    <tr>\n      <th>235</th>\n      <td>80</td>\n      <td>1</td>\n      <td>43</td>\n      <td>25337219019</td>\n    </tr>\n    <tr>\n      <th>236</th>\n      <td>80</td>\n      <td>1</td>\n      <td>11</td>\n      <td>25334127615</td>\n    </tr>\n    <tr>\n      <th>237</th>\n      <td>80</td>\n      <td>1</td>\n      <td>0</td>\n      <td>25332777845</td>\n    </tr>\n    <tr>\n      <th>238</th>\n      <td>80</td>\n      <td>1</td>\n      <td>58</td>\n      <td>25337570355</td>\n    </tr>\n    <tr>\n      <th>239</th>\n      <td>80</td>\n      <td>1</td>\n      <td>19</td>\n      <td>25333571008</td>\n    </tr>\n    <tr>\n      <th>240</th>\n      <td>80</td>\n      <td>1</td>\n      <td>57</td>\n      <td>25337987358</td>\n    </tr>\n    <tr>\n      <th>241</th>\n      <td>80</td>\n      <td>1</td>\n      <td>8</td>\n      <td>25334669113</td>\n    </tr>\n    <tr>\n      <th>242</th>\n      <td>80</td>\n      <td>1</td>\n      <td>34</td>\n      <td>25335138159</td>\n    </tr>\n    <tr>\n      <th>243</th>\n      <td>80</td>\n      <td>1</td>\n      <td>62</td>\n      <td>25337000043</td>\n    </tr>\n    <tr>\n      <th>244</th>\n      <td>80</td>\n      <td>1</td>\n      <td>20</td>\n      <td>25337022758</td>\n    </tr>\n    <tr>\n      <th>245</th>\n      <td>80</td>\n      <td>1</td>\n      <td>7</td>\n      <td>25338629228</td>\n    </tr>\n    <tr>\n      <th>246</th>\n      <td>80</td>\n      <td>1</td>\n      <td>33</td>\n      <td>25334339351</td>\n    </tr>\n    <tr>\n      <th>247</th>\n      <td>80</td>\n      <td>1</td>\n      <td>4</td>\n      <td>25337311945</td>\n    </tr>\n    <tr>\n      <th>248</th>\n      <td>80</td>\n      <td>1</td>\n      <td>44</td>\n      <td>25334219437</td>\n    </tr>\n    <tr>\n      <th>249</th>\n      <td>80</td>\n      <td>1</td>\n      <td>51</td>\n      <td>25337924856</td>\n    </tr>\n    <tr>\n      <th>250</th>\n      <td>80</td>\n      <td>1</td>\n      <td>24</td>\n      <td>25334975731</td>\n    </tr>\n    <tr>\n      <th>251</th>\n      <td>80</td>\n      <td>1</td>\n      <td>61</td>\n      <td>25334134521</td>\n    </tr>\n    <tr>\n      <th>252</th>\n      <td>80</td>\n      <td>1</td>\n      <td>29</td>\n      <td>25335704201</td>\n    </tr>\n    <tr>\n      <th>253</th>\n      <td>80</td>\n      <td>1</td>\n      <td>39</td>\n      <td>25334727515</td>\n    </tr>\n    <tr>\n      <th>254</th>\n      <td>80</td>\n      <td>1</td>\n      <td>18</td>\n      <td>25337068562</td>\n    </tr>\n    <tr>\n      <th>255</th>\n      <td>80</td>\n      <td>1</td>\n      <td>32</td>\n      <td>25336354072</td>\n    </tr>\n    <tr>\n      <th>256</th>\n      <td>80</td>\n      <td>1</td>\n      <td>22</td>\n      <td>25338658311</td>\n    </tr>\n    <tr>\n      <th>257</th>\n      <td>80</td>\n      <td>1</td>\n      <td>55</td>\n      <td>25333633476</td>\n    </tr>\n    <tr>\n      <th>258</th>\n      <td>80</td>\n      <td>1</td>\n      <td>31</td>\n      <td>25335487750</td>\n    </tr>\n    <tr>\n      <th>259</th>\n      <td>80</td>\n      <td>1</td>\n      <td>6</td>\n      <td>25335178085</td>\n    </tr>\n    <tr>\n      <th>260</th>\n      <td>80</td>\n      <td>1</td>\n      <td>38</td>\n      <td>25335020857</td>\n    </tr>\n    <tr>\n      <th>261</th>\n      <td>80</td>\n      <td>1</td>\n      <td>15</td>\n      <td>25334552343</td>\n    </tr>\n    <tr>\n      <th>262</th>\n      <td>80</td>\n      <td>1</td>\n      <td>40</td>\n      <td>25337035056</td>\n    </tr>\n    <tr>\n      <th>263</th>\n      <td>80</td>\n      <td>1</td>\n      <td>41</td>\n      <td>25336387639</td>\n    </tr>\n    <tr>\n      <th>264</th>\n      <td>80</td>\n      <td>1</td>\n      <td>9</td>\n      <td>25334682654</td>\n    </tr>\n    <tr>\n      <th>265</th>\n      <td>80</td>\n      <td>1</td>\n      <td>59</td>\n      <td>25334588798</td>\n    </tr>\n    <tr>\n      <th>266</th>\n      <td>80</td>\n      <td>1</td>\n      <td>42</td>\n      <td>25338192795</td>\n    </tr>\n    <tr>\n      <th>267</th>\n      <td>80</td>\n      <td>1</td>\n      <td>46</td>\n      <td>25333749909</td>\n    </tr>\n    <tr>\n      <th>268</th>\n      <td>80</td>\n      <td>1</td>\n      <td>30</td>\n      <td>25334437198</td>\n    </tr>\n    <tr>\n      <th>269</th>\n      <td>80</td>\n      <td>1</td>\n      <td>16</td>\n      <td>25335201169</td>\n    </tr>\n    <tr>\n      <th>270</th>\n      <td>80</td>\n      <td>1</td>\n      <td>12</td>\n      <td>25334661462</td>\n    </tr>\n    <tr>\n      <th>271</th>\n      <td>80</td>\n      <td>1</td>\n      <td>10</td>\n      <td>25335087239</td>\n    </tr>\n    <tr>\n      <th>272</th>\n      <td>80</td>\n      <td>1</td>\n      <td>21</td>\n      <td>25334276110</td>\n    </tr>\n    <tr>\n      <th>273</th>\n      <td>80</td>\n      <td>1</td>\n      <td>35</td>\n      <td>25336094123</td>\n    </tr>\n    <tr>\n      <th>274</th>\n      <td>80</td>\n      <td>1</td>\n      <td>69</td>\n      <td>25334300513</td>\n    </tr>\n    <tr>\n      <th>275</th>\n      <td>80</td>\n      <td>1</td>\n      <td>17</td>\n      <td>25334524877</td>\n    </tr>\n    <tr>\n      <th>276</th>\n      <td>80</td>\n      <td>1</td>\n      <td>66</td>\n      <td>25337132039</td>\n    </tr>\n    <tr>\n      <th>277</th>\n      <td>80</td>\n      <td>1</td>\n      <td>47</td>\n      <td>25337795786</td>\n    </tr>\n    <tr>\n      <th>278</th>\n      <td>80</td>\n      <td>1</td>\n      <td>28</td>\n      <td>25333971673</td>\n    </tr>\n  </tbody>\n</table>\n</div>"
     },
     "metadata": {},
     "execution_count": 26
    }
   ],
   "source": [
    "received_tmp = pd.DataFrame(np.column_stack([sels_received, runs_rec, received, query_times]), \n",
    "                            columns=['selectivity','run', 'node_id', 'time_received'])\n",
    "received = received_tmp.astype({\n",
    "    'selectivity':'int64',\n",
    "    'run':'int64',\n",
    "    'node_id':'int64',\n",
    "    'time_received':'int64'\n",
    "})\n",
    "received['time_received'] = received.apply(lambda row: row['time_received'] - startup_times[(str(row['selectivity']),str(row['run']))], axis=1)\n",
    "\n",
    "received.head()"
   ]
  },
  {
   "cell_type": "code",
   "execution_count": 27,
   "metadata": {},
   "outputs": [
    {
     "output_type": "execute_result",
     "data": {
      "text/plain": [
       "25502099490"
      ]
     },
     "metadata": {},
     "execution_count": 27
    }
   ],
   "source": [
    "received['time_received'].max()"
   ]
  },
  {
   "source": [
    "# 3. Delete all nodes from the df that did not match the query"
   ],
   "cell_type": "markdown",
   "metadata": {}
  },
  {
   "cell_type": "code",
   "execution_count": 28,
   "metadata": {
    "tags": []
   },
   "outputs": [
    {
     "output_type": "execute_result",
     "data": {
      "text/plain": [
       "   selectivity  applies_to\n",
       "0           10          27\n",
       "1           25          65\n",
       "2           80         166"
      ],
      "text/html": "<div>\n<style scoped>\n    .dataframe tbody tr th:only-of-type {\n        vertical-align: middle;\n    }\n\n    .dataframe tbody tr th {\n        vertical-align: top;\n    }\n\n    .dataframe thead th {\n        text-align: right;\n    }\n</style>\n<table border=\"1\" class=\"dataframe\">\n  <thead>\n    <tr style=\"text-align: right;\">\n      <th></th>\n      <th>selectivity</th>\n      <th>applies_to</th>\n    </tr>\n  </thead>\n  <tbody>\n    <tr>\n      <th>0</th>\n      <td>10</td>\n      <td>27</td>\n    </tr>\n    <tr>\n      <th>1</th>\n      <td>25</td>\n      <td>65</td>\n    </tr>\n    <tr>\n      <th>2</th>\n      <td>80</td>\n      <td>166</td>\n    </tr>\n  </tbody>\n</table>\n</div>"
     },
     "metadata": {},
     "execution_count": 28
    }
   ],
   "source": [
    "nodes_applying = initial_ranges[\n",
    "    (initial_ranges['lat'] >= initial_ranges.apply(lambda x: determine_values(x['selectivity'],0), axis=1) ) &\n",
    "    (initial_ranges['lon'] >= initial_ranges.apply(lambda x: determine_values(x['selectivity'],1), axis=1) ) \n",
    "]\n",
    "nodes_applying.groupby(['selectivity']).size().reset_index(name='applies_to')\n"
   ]
  },
  {
   "source": [
    "### Sanity check\n",
    "\n",
    "Find the nodes where the query applied according to (lat,lon), but did not receive it"
   ],
   "cell_type": "markdown",
   "metadata": {}
  },
  {
   "cell_type": "code",
   "execution_count": 29,
   "metadata": {},
   "outputs": [
    {
     "output_type": "execute_result",
     "data": {
      "text/plain": [
       "258"
      ]
     },
     "metadata": {},
     "execution_count": 29
    }
   ],
   "source": [
    "a_waldo = nodes_applying.merge(received, how='left', on=['selectivity', 'run', 'node_id'])\n",
    "len(a_waldo)"
   ]
  },
  {
   "cell_type": "code",
   "execution_count": 30,
   "metadata": {},
   "outputs": [
    {
     "output_type": "execute_result",
     "data": {
      "text/plain": [
       "Empty DataFrame\n",
       "Columns: [selectivity, run, node_id, lat, lon, time_received]\n",
       "Index: []"
      ],
      "text/html": "<div>\n<style scoped>\n    .dataframe tbody tr th:only-of-type {\n        vertical-align: middle;\n    }\n\n    .dataframe tbody tr th {\n        vertical-align: top;\n    }\n\n    .dataframe thead th {\n        text-align: right;\n    }\n</style>\n<table border=\"1\" class=\"dataframe\">\n  <thead>\n    <tr style=\"text-align: right;\">\n      <th></th>\n      <th>selectivity</th>\n      <th>run</th>\n      <th>node_id</th>\n      <th>lat</th>\n      <th>lon</th>\n      <th>time_received</th>\n    </tr>\n  </thead>\n  <tbody>\n  </tbody>\n</table>\n</div>"
     },
     "metadata": {},
     "execution_count": 30
    }
   ],
   "source": [
    "w = a_waldo[a_waldo.isnull().any(axis=1)]\n",
    "w.head()"
   ]
  },
  {
   "source": [
    "# 4. Count the nodes that the respective query applies to in each run for every selectivity"
   ],
   "cell_type": "markdown",
   "metadata": {}
  },
  {
   "cell_type": "code",
   "execution_count": 31,
   "metadata": {
    "tags": []
   },
   "outputs": [
    {
     "output_type": "stream",
     "name": "stdout",
     "text": [
      "selectivity    int64\nrun            int64\napplies_to     int64\ndtype: object\n"
     ]
    },
    {
     "output_type": "execute_result",
     "data": {
      "text/plain": [
       "   selectivity  run  applies_to\n",
       "0           10    0           8\n",
       "1           10    1          10\n",
       "2           10    2           9\n",
       "3           25    0          26\n",
       "4           25    1          22\n",
       "5           25    2          17\n",
       "6           80    0          51\n",
       "7           80    1          57\n",
       "8           80    2          58"
      ],
      "text/html": "<div>\n<style scoped>\n    .dataframe tbody tr th:only-of-type {\n        vertical-align: middle;\n    }\n\n    .dataframe tbody tr th {\n        vertical-align: top;\n    }\n\n    .dataframe thead th {\n        text-align: right;\n    }\n</style>\n<table border=\"1\" class=\"dataframe\">\n  <thead>\n    <tr style=\"text-align: right;\">\n      <th></th>\n      <th>selectivity</th>\n      <th>run</th>\n      <th>applies_to</th>\n    </tr>\n  </thead>\n  <tbody>\n    <tr>\n      <th>0</th>\n      <td>10</td>\n      <td>0</td>\n      <td>8</td>\n    </tr>\n    <tr>\n      <th>1</th>\n      <td>10</td>\n      <td>1</td>\n      <td>10</td>\n    </tr>\n    <tr>\n      <th>2</th>\n      <td>10</td>\n      <td>2</td>\n      <td>9</td>\n    </tr>\n    <tr>\n      <th>3</th>\n      <td>25</td>\n      <td>0</td>\n      <td>26</td>\n    </tr>\n    <tr>\n      <th>4</th>\n      <td>25</td>\n      <td>1</td>\n      <td>22</td>\n    </tr>\n    <tr>\n      <th>5</th>\n      <td>25</td>\n      <td>2</td>\n      <td>17</td>\n    </tr>\n    <tr>\n      <th>6</th>\n      <td>80</td>\n      <td>0</td>\n      <td>51</td>\n    </tr>\n    <tr>\n      <th>7</th>\n      <td>80</td>\n      <td>1</td>\n      <td>57</td>\n    </tr>\n    <tr>\n      <th>8</th>\n      <td>80</td>\n      <td>2</td>\n      <td>58</td>\n    </tr>\n  </tbody>\n</table>\n</div>"
     },
     "metadata": {},
     "execution_count": 31
    }
   ],
   "source": [
    "grouped = nodes_applying.groupby(['selectivity','run']).size().reset_index(name='applies_to')\n",
    "print(grouped.dtypes)\n",
    "grouped"
   ]
  },
  {
   "source": [
    "# 5. Count the nodes that received the query in each run for every selectivity"
   ],
   "cell_type": "markdown",
   "metadata": {}
  },
  {
   "cell_type": "code",
   "execution_count": 32,
   "metadata": {},
   "outputs": [
    {
     "output_type": "stream",
     "name": "stdout",
     "text": [
      "selectivity     int64\nrun             int64\nnum_received    int64\ndtype: object\n"
     ]
    },
    {
     "output_type": "execute_result",
     "data": {
      "text/plain": [
       "   selectivity  run  num_received\n",
       "0           10    0            13\n",
       "1           10    1            13\n",
       "2           10    2            12\n",
       "3           25    0            28\n",
       "4           25    1            23\n",
       "5           25    2            18\n",
       "6           80    0            53\n",
       "7           80    1            59\n",
       "8           80    2            60"
      ],
      "text/html": "<div>\n<style scoped>\n    .dataframe tbody tr th:only-of-type {\n        vertical-align: middle;\n    }\n\n    .dataframe tbody tr th {\n        vertical-align: top;\n    }\n\n    .dataframe thead th {\n        text-align: right;\n    }\n</style>\n<table border=\"1\" class=\"dataframe\">\n  <thead>\n    <tr style=\"text-align: right;\">\n      <th></th>\n      <th>selectivity</th>\n      <th>run</th>\n      <th>num_received</th>\n    </tr>\n  </thead>\n  <tbody>\n    <tr>\n      <th>0</th>\n      <td>10</td>\n      <td>0</td>\n      <td>13</td>\n    </tr>\n    <tr>\n      <th>1</th>\n      <td>10</td>\n      <td>1</td>\n      <td>13</td>\n    </tr>\n    <tr>\n      <th>2</th>\n      <td>10</td>\n      <td>2</td>\n      <td>12</td>\n    </tr>\n    <tr>\n      <th>3</th>\n      <td>25</td>\n      <td>0</td>\n      <td>28</td>\n    </tr>\n    <tr>\n      <th>4</th>\n      <td>25</td>\n      <td>1</td>\n      <td>23</td>\n    </tr>\n    <tr>\n      <th>5</th>\n      <td>25</td>\n      <td>2</td>\n      <td>18</td>\n    </tr>\n    <tr>\n      <th>6</th>\n      <td>80</td>\n      <td>0</td>\n      <td>53</td>\n    </tr>\n    <tr>\n      <th>7</th>\n      <td>80</td>\n      <td>1</td>\n      <td>59</td>\n    </tr>\n    <tr>\n      <th>8</th>\n      <td>80</td>\n      <td>2</td>\n      <td>60</td>\n    </tr>\n  </tbody>\n</table>\n</div>"
     },
     "metadata": {},
     "execution_count": 32
    }
   ],
   "source": [
    "received_grouped = received.groupby(['selectivity','run']).size().reset_index(name='num_received')\n",
    "print(received_grouped.dtypes)\n",
    "received_grouped"
   ]
  },
  {
   "source": [
    "# 6. Compute Overhead etc.\n",
    "\n",
    "### Table columns\n",
    "- applies_to            = number of nodes where the query applies \n",
    "- received              = number of nodes that received the query\n",
    "- overhead              = received - applies\n",
    "- baseline_ovehead      = num_nodes - applies\n",
    "- num_nodes             = topology size\n",
    "- overhead_ratio        = overhead/baseline_overhead = ratio\n",
    "- overhead_ratio_pct             = overhead_ratio * 100"
   ],
   "cell_type": "markdown",
   "metadata": {}
  },
  {
   "cell_type": "code",
   "execution_count": 33,
   "metadata": {},
   "outputs": [
    {
     "output_type": "stream",
     "name": "stdout",
     "text": [
      "selectivity     int64\nrun             int64\napplies_to      int64\nnum_received    int64\ndtype: object\n"
     ]
    },
    {
     "output_type": "execute_result",
     "data": {
      "text/plain": [
       "   selectivity  run  applies_to  num_received\n",
       "0           10    0           8            13\n",
       "1           10    1          10            13\n",
       "2           10    2           9            12\n",
       "3           25    0          26            28\n",
       "4           25    1          22            23\n",
       "5           25    2          17            18\n",
       "6           80    0          51            53\n",
       "7           80    1          57            59\n",
       "8           80    2          58            60"
      ],
      "text/html": "<div>\n<style scoped>\n    .dataframe tbody tr th:only-of-type {\n        vertical-align: middle;\n    }\n\n    .dataframe tbody tr th {\n        vertical-align: top;\n    }\n\n    .dataframe thead th {\n        text-align: right;\n    }\n</style>\n<table border=\"1\" class=\"dataframe\">\n  <thead>\n    <tr style=\"text-align: right;\">\n      <th></th>\n      <th>selectivity</th>\n      <th>run</th>\n      <th>applies_to</th>\n      <th>num_received</th>\n    </tr>\n  </thead>\n  <tbody>\n    <tr>\n      <th>0</th>\n      <td>10</td>\n      <td>0</td>\n      <td>8</td>\n      <td>13</td>\n    </tr>\n    <tr>\n      <th>1</th>\n      <td>10</td>\n      <td>1</td>\n      <td>10</td>\n      <td>13</td>\n    </tr>\n    <tr>\n      <th>2</th>\n      <td>10</td>\n      <td>2</td>\n      <td>9</td>\n      <td>12</td>\n    </tr>\n    <tr>\n      <th>3</th>\n      <td>25</td>\n      <td>0</td>\n      <td>26</td>\n      <td>28</td>\n    </tr>\n    <tr>\n      <th>4</th>\n      <td>25</td>\n      <td>1</td>\n      <td>22</td>\n      <td>23</td>\n    </tr>\n    <tr>\n      <th>5</th>\n      <td>25</td>\n      <td>2</td>\n      <td>17</td>\n      <td>18</td>\n    </tr>\n    <tr>\n      <th>6</th>\n      <td>80</td>\n      <td>0</td>\n      <td>51</td>\n      <td>53</td>\n    </tr>\n    <tr>\n      <th>7</th>\n      <td>80</td>\n      <td>1</td>\n      <td>57</td>\n      <td>59</td>\n    </tr>\n    <tr>\n      <th>8</th>\n      <td>80</td>\n      <td>2</td>\n      <td>58</td>\n      <td>60</td>\n    </tr>\n  </tbody>\n</table>\n</div>"
     },
     "metadata": {},
     "execution_count": 33
    }
   ],
   "source": [
    "overview_tmp = grouped.merge(received_grouped, how='left', on=['selectivity', 'run'])#.astype({'num_received':'int64'})\n",
    "print(overview_tmp.dtypes)\n",
    "overview_tmp"
   ]
  },
  {
   "cell_type": "code",
   "execution_count": 34,
   "metadata": {},
   "outputs": [
    {
     "output_type": "stream",
     "name": "stdout",
     "text": [
      "selectivity             int64\nrun                     int64\napplies_to              int64\nnum_received            int64\nrime_overhead_abs       int64\nnum_nodes               int64\nbaseline_overhead       int64\noverhead_ratio        float64\noverhead_ratio_pct    float64\ndtype: object\n"
     ]
    },
    {
     "output_type": "execute_result",
     "data": {
      "text/plain": [
       "   selectivity  run  applies_to  num_received  rime_overhead_abs  num_nodes  \\\n",
       "0           10    0           8            13                  5         73   \n",
       "1           10    1          10            13                  3         73   \n",
       "2           10    2           9            12                  3         73   \n",
       "3           25    0          26            28                  2         73   \n",
       "4           25    1          22            23                  1         73   \n",
       "5           25    2          17            18                  1         73   \n",
       "6           80    0          51            53                  2         73   \n",
       "7           80    1          57            59                  2         73   \n",
       "8           80    2          58            60                  2         73   \n",
       "\n",
       "   baseline_overhead  overhead_ratio  overhead_ratio_pct  \n",
       "0                 65        0.076923            7.692308  \n",
       "1                 63        0.047619            4.761905  \n",
       "2                 64        0.046875            4.687500  \n",
       "3                 47        0.042553            4.255319  \n",
       "4                 51        0.019608            1.960784  \n",
       "5                 56        0.017857            1.785714  \n",
       "6                 22        0.090909            9.090909  \n",
       "7                 16        0.125000           12.500000  \n",
       "8                 15        0.133333           13.333333  "
      ],
      "text/html": "<div>\n<style scoped>\n    .dataframe tbody tr th:only-of-type {\n        vertical-align: middle;\n    }\n\n    .dataframe tbody tr th {\n        vertical-align: top;\n    }\n\n    .dataframe thead th {\n        text-align: right;\n    }\n</style>\n<table border=\"1\" class=\"dataframe\">\n  <thead>\n    <tr style=\"text-align: right;\">\n      <th></th>\n      <th>selectivity</th>\n      <th>run</th>\n      <th>applies_to</th>\n      <th>num_received</th>\n      <th>rime_overhead_abs</th>\n      <th>num_nodes</th>\n      <th>baseline_overhead</th>\n      <th>overhead_ratio</th>\n      <th>overhead_ratio_pct</th>\n    </tr>\n  </thead>\n  <tbody>\n    <tr>\n      <th>0</th>\n      <td>10</td>\n      <td>0</td>\n      <td>8</td>\n      <td>13</td>\n      <td>5</td>\n      <td>73</td>\n      <td>65</td>\n      <td>0.076923</td>\n      <td>7.692308</td>\n    </tr>\n    <tr>\n      <th>1</th>\n      <td>10</td>\n      <td>1</td>\n      <td>10</td>\n      <td>13</td>\n      <td>3</td>\n      <td>73</td>\n      <td>63</td>\n      <td>0.047619</td>\n      <td>4.761905</td>\n    </tr>\n    <tr>\n      <th>2</th>\n      <td>10</td>\n      <td>2</td>\n      <td>9</td>\n      <td>12</td>\n      <td>3</td>\n      <td>73</td>\n      <td>64</td>\n      <td>0.046875</td>\n      <td>4.687500</td>\n    </tr>\n    <tr>\n      <th>3</th>\n      <td>25</td>\n      <td>0</td>\n      <td>26</td>\n      <td>28</td>\n      <td>2</td>\n      <td>73</td>\n      <td>47</td>\n      <td>0.042553</td>\n      <td>4.255319</td>\n    </tr>\n    <tr>\n      <th>4</th>\n      <td>25</td>\n      <td>1</td>\n      <td>22</td>\n      <td>23</td>\n      <td>1</td>\n      <td>73</td>\n      <td>51</td>\n      <td>0.019608</td>\n      <td>1.960784</td>\n    </tr>\n    <tr>\n      <th>5</th>\n      <td>25</td>\n      <td>2</td>\n      <td>17</td>\n      <td>18</td>\n      <td>1</td>\n      <td>73</td>\n      <td>56</td>\n      <td>0.017857</td>\n      <td>1.785714</td>\n    </tr>\n    <tr>\n      <th>6</th>\n      <td>80</td>\n      <td>0</td>\n      <td>51</td>\n      <td>53</td>\n      <td>2</td>\n      <td>73</td>\n      <td>22</td>\n      <td>0.090909</td>\n      <td>9.090909</td>\n    </tr>\n    <tr>\n      <th>7</th>\n      <td>80</td>\n      <td>1</td>\n      <td>57</td>\n      <td>59</td>\n      <td>2</td>\n      <td>73</td>\n      <td>16</td>\n      <td>0.125000</td>\n      <td>12.500000</td>\n    </tr>\n    <tr>\n      <th>8</th>\n      <td>80</td>\n      <td>2</td>\n      <td>58</td>\n      <td>60</td>\n      <td>2</td>\n      <td>73</td>\n      <td>15</td>\n      <td>0.133333</td>\n      <td>13.333333</td>\n    </tr>\n  </tbody>\n</table>\n</div>"
     },
     "metadata": {},
     "execution_count": 34
    }
   ],
   "source": [
    "overview = overview_tmp\n",
    "\n",
    "overview['rime_overhead_abs'] = overview.apply(lambda row: row.num_received - row.applies_to, axis=1 )\n",
    "overview['num_nodes'] = num_nodes\n",
    "overview['baseline_overhead'] = overview.apply(lambda row: num_nodes - row.applies_to, axis=1)\n",
    "overview['overhead_ratio'] = overview.apply(lambda row: row.rime_overhead_abs/row.baseline_overhead, axis=1)\n",
    "overview['overhead_ratio_pct'] = overview.apply(lambda row: row.overhead_ratio*100, axis=1)\n",
    "\n",
    "print(overview.dtypes)\n",
    "overview"
   ]
  },
  {
   "cell_type": "code",
   "execution_count": 35,
   "metadata": {
    "tags": []
   },
   "outputs": [],
   "source": [
    "summary = pd.DataFrame()\n",
    "\n",
    "summary['mean_overhead_ratio']      = overview.groupby('selectivity')['overhead_ratio_pct'].mean()\n",
    "summary['median_overhead_ratio']    = overview.groupby('selectivity')['overhead_ratio_pct'].median()\n",
    "summary['applies_pct']              = overview.groupby('selectivity')['applies_to'].mean() / num_nodes\n",
    "summary['received_pct']             = overview.groupby('selectivity')['num_received'].mean() / num_nodes\n",
    "\n",
    "summary['base_overhead']            = 1 - summary['applies_pct']\n",
    "summary['rime_overhead']            = summary['received_pct'] - summary['applies_pct']\n",
    "summary['overhead_saved_by_rime']   = (summary['base_overhead'] - summary['rime_overhead']) * 100"
   ]
  },
  {
   "cell_type": "code",
   "execution_count": 36,
   "metadata": {},
   "outputs": [
    {
     "output_type": "execute_result",
     "data": {
      "text/plain": [
       "             mean_overhead_ratio  median_overhead_ratio  applies_pct  \\\n",
       "selectivity                                                            \n",
       "10                      5.713904               4.761905     0.123288   \n",
       "25                      2.667273               1.960784     0.296804   \n",
       "80                     11.641414              12.500000     0.757991   \n",
       "\n",
       "             received_pct  base_overhead  rime_overhead  \\\n",
       "selectivity                                               \n",
       "10               0.173516       0.876712       0.050228   \n",
       "25               0.315068       0.703196       0.018265   \n",
       "80               0.785388       0.242009       0.027397   \n",
       "\n",
       "             overhead_saved_by_rime  \n",
       "selectivity                          \n",
       "10                        82.648402  \n",
       "25                        68.493151  \n",
       "80                        21.461187  "
      ],
      "text/html": "<div>\n<style scoped>\n    .dataframe tbody tr th:only-of-type {\n        vertical-align: middle;\n    }\n\n    .dataframe tbody tr th {\n        vertical-align: top;\n    }\n\n    .dataframe thead th {\n        text-align: right;\n    }\n</style>\n<table border=\"1\" class=\"dataframe\">\n  <thead>\n    <tr style=\"text-align: right;\">\n      <th></th>\n      <th>mean_overhead_ratio</th>\n      <th>median_overhead_ratio</th>\n      <th>applies_pct</th>\n      <th>received_pct</th>\n      <th>base_overhead</th>\n      <th>rime_overhead</th>\n      <th>overhead_saved_by_rime</th>\n    </tr>\n    <tr>\n      <th>selectivity</th>\n      <th></th>\n      <th></th>\n      <th></th>\n      <th></th>\n      <th></th>\n      <th></th>\n      <th></th>\n    </tr>\n  </thead>\n  <tbody>\n    <tr>\n      <th>10</th>\n      <td>5.713904</td>\n      <td>4.761905</td>\n      <td>0.123288</td>\n      <td>0.173516</td>\n      <td>0.876712</td>\n      <td>0.050228</td>\n      <td>82.648402</td>\n    </tr>\n    <tr>\n      <th>25</th>\n      <td>2.667273</td>\n      <td>1.960784</td>\n      <td>0.296804</td>\n      <td>0.315068</td>\n      <td>0.703196</td>\n      <td>0.018265</td>\n      <td>68.493151</td>\n    </tr>\n    <tr>\n      <th>80</th>\n      <td>11.641414</td>\n      <td>12.500000</td>\n      <td>0.757991</td>\n      <td>0.785388</td>\n      <td>0.242009</td>\n      <td>0.027397</td>\n      <td>21.461187</td>\n    </tr>\n  </tbody>\n</table>\n</div>"
     },
     "metadata": {},
     "execution_count": 36
    }
   ],
   "source": [
    "summary"
   ]
  }
 ]
}